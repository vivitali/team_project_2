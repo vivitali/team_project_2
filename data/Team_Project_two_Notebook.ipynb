{
  "cells": [
    {
      "cell_type": "code",
      "execution_count": 1,
      "metadata": {
        "colab": {
          "base_uri": "https://localhost:8080/"
        },
        "id": "z_8KE6lUC0FD",
        "outputId": "2ea427c6-2140-479f-cf96-793673a74ff9"
      },
      "outputs": [],
      "source": [
        "# Load libraries\n",
        "import pandas as pd\n",
        "import numpy as np\n",
        "#import seaborn as sns\n",
        "import matplotlib.pyplot as plt\n",
        "import urllib\n",
        "from pathlib import Path\n",
        "import os\n",
        "import urllib\n",
        "#import statsmodels.api as sm\n",
        "from sklearn.preprocessing import MinMaxScaler\n",
        "from sklearn.model_selection import train_test_split\n",
        "\n",
        "pd.options.display.max_columns = 50"
      ]
    },
    {
      "cell_type": "code",
      "execution_count": 2,
      "metadata": {
        "id": "FjHnBL-rC0FF"
      },
      "outputs": [],
      "source": [
        "test_path = './raw/test.csv'\n",
        "train_path = './raw/train.csv'"
      ]
    },
    {
      "cell_type": "code",
      "execution_count": 3,
      "metadata": {
        "id": "tSmdFaFHC0FF"
      },
      "outputs": [],
      "source": [
        "def load_set_data(target_month, outlier_cutoff, income_cutoff, path):\n",
        "    relative_path = path\n",
        "    cur_wd = os.getcwd()\n",
        "    file_path = cur_wd + relative_path\n",
        "\n",
        "    if not Path(file_path).exists():\n",
        "        print('Filepath does not exist in the \"raw\" folder. Check again')\n",
        "\n",
        "    else:\n",
        "        print('Loading and cleaning data.')\n",
        "\n",
        "    d_types = {'ID': str, 'Customer_ID': str, 'Month': str, 'Name': str, 'Age': int, 'SSN': str, 'Occupation': str, 'Annual_Income': str, 'Monthly_Inhand_Salary': float, 'Num_Bank_Accounts': int, 'Num_Credit_Card': int, 'Interest_Rate': int, 'Num_of_Loan': int,'Type_of_Loan': str,\n",
        "'Delay_from_due_date': int, 'Num_of_Delayed_Payment': int, 'Changed_Credit_Limit': float, 'Num_Credit_Inquiries': float, 'Credit_Mix': str, 'Outstanding_Debt': str, 'Credit_Utilization_Ratio': float, 'Credit_History_Age': float, 'Payment_of_Min_Amount': str, 'Total_EMI_per_month': float,\n",
        "       'Amount_invested_monthly': float, 'Payment_Behaviour': str, 'Monthly_Balance':float, 'Credit_Score':str}\n",
        "\n",
        "\n",
        "    df = pd.read_csv(file_path)\n",
        "\n",
        "    # Data cleaning, type conversion and filtering DataFrame\n",
        "    # remove underscores and convert 'Annual Income' column from string to float\n",
        "    df['Annual_Income'] = df['Annual_Income'].str.replace('_', '').astype(float)\n",
        "\n",
        "    # filter out rows where 'Num_Credit_Inquiries' is blank and convert to integer\n",
        "    df = df[df['Num_Credit_Inquiries'].notna()]\n",
        "    df['Num_Credit_Inquiries'] = df['Num_Credit_Inquiries'].astype(int)\n",
        "\n",
        "    # filter out rows where 'Credit_Mix' has underscores\n",
        "    df = df[~df['Credit_Mix'].str.contains('_')]\n",
        "\n",
        "    # remove underscores and convert 'Outstanding_Debt' column from string to float\n",
        "    df['Outstanding_Debt'] = df['Outstanding_Debt'].str.replace('_', '').astype(float)\n",
        "\n",
        "    # no changes required for \"Credit_Utilization_Ratio\"\n",
        "\n",
        "    # further filtering based on specific conditions\n",
        "    df['Amount_invested_monthly'] = df['Amount_invested_monthly'].str.replace('_', '').astype(float)\n",
        "    single_month_frame = df[df['Month'] ==  target_month]\n",
        "    single_month_frame = single_month_frame[single_month_frame['Type_of_Loan'] !=  'Auto Loan']\n",
        "    single_month_frame = single_month_frame[single_month_frame['Amount_invested_monthly'] < outlier_cutoff]\n",
        "    single_month_frame = single_month_frame[single_month_frame['Annual_Income'] < income_cutoff]\n",
        "\n",
        "\n",
        "    return single_month_frame"
      ]
    },
    {
      "cell_type": "code",
      "execution_count": 4,
      "metadata": {
        "colab": {
          "base_uri": "https://localhost:8080/"
        },
        "id": "S5JvyyvhC0FG",
        "outputId": "391a4c14-6cc9-4f1d-ecb2-5a29a87ce39a"
      },
      "outputs": [
        {
          "name": "stdout",
          "output_type": "stream",
          "text": [
            "c:\\Users\\adith\\OneDrive\\Documents\\DSI\\Group_project_2\\team_project_2\\data\n",
            "/raw/train.csv\n",
            "Loading and cleaning data.\n",
            "Number of rows for April: 8777\n"
          ]
        },
        {
          "name": "stderr",
          "output_type": "stream",
          "text": [
            "C:\\Users\\adith\\AppData\\Local\\Temp\\ipykernel_19116\\2508348448.py:17: DtypeWarning: Columns (26) have mixed types. Specify dtype option on import or set low_memory=False.\n",
            "  df = pd.read_csv(file_path)\n"
          ]
        }
      ],
      "source": [
        "# checking data cleaning, type conversion and filtering DataFrame for April\n",
        "\n",
        "# Load data for April with specified cutoffs\n",
        "target_month = 'April'\n",
        "outlier_cutoff = 10000\n",
        "income_cutoff = 500000\n",
        "path = train_path\n",
        "import os\n",
        "current_directory = os.getcwd()\n",
        "print(current_directory)\n",
        "print(path)\n",
        "\n",
        "# Call the function to get the filtered DataFrame\n",
        "april_data = load_set_data(target_month, outlier_cutoff, income_cutoff, path)\n",
        "\n",
        "# Print the number of rows\n",
        "print(f'Number of rows for {target_month}:', len(april_data))"
      ]
    },
    {
      "cell_type": "markdown",
      "metadata": {
        "id": "OcwMfMLnC0FH"
      },
      "source": [
        "END OF CLEAN."
      ]
    },
    {
      "cell_type": "markdown",
      "metadata": {
        "id": "45XFiIk_C0FI"
      },
      "source": [
        "### Starting Deep Learning model"
      ]
    },
    {
      "cell_type": "code",
      "execution_count": 5,
      "metadata": {
        "colab": {
          "base_uri": "https://localhost:8080/"
        },
        "id": "1xHO8VOIC0FI",
        "outputId": "6d676a9c-fda0-46af-c0f2-8bb78a34b482"
      },
      "outputs": [
        {
          "name": "stdout",
          "output_type": "stream",
          "text": [
            "Loading and cleaning data.\n"
          ]
        },
        {
          "name": "stderr",
          "output_type": "stream",
          "text": [
            "C:\\Users\\adith\\AppData\\Local\\Temp\\ipykernel_19116\\3925847333.py:8: DtypeWarning: Columns (26) have mixed types. Specify dtype option on import or set low_memory=False.\n",
            "  pd_cs_class = pd.read_csv(file_path_cs_class)\n"
          ]
        }
      ],
      "source": [
        "file_path_cs_class =  'raw/train.csv'\n",
        "if not Path(file_path_cs_class).exists():\n",
        "    print('Filepath does not exist in the \"raw\" folder. Check again')\n",
        "else:\n",
        "    print('Loading and cleaning data.')\n",
        "\n",
        "\n",
        "pd_cs_class = pd.read_csv(file_path_cs_class)\n",
        "\n",
        "features = ['Annual_Income','Num_Credit_Inquiries','Outstanding_Debt','Annual_Income',\n",
        "              'Monthly_Inhand_Salary', 'Num_Bank_Accounts', 'Num_Credit_Card', 'Interest_Rate',\n",
        "              'Delay_from_due_date', 'Num_Credit_Inquiries', 'Credit_Utilization_Ratio', 'Total_EMI_per_month' ]"
      ]
    },
    {
      "cell_type": "markdown",
      "metadata": {},
      "source": [
        "<H4><i> Set function to quickly clean data </i></H4>"
      ]
    },
    {
      "cell_type": "code",
      "execution_count": 6,
      "metadata": {
        "colab": {
          "base_uri": "https://localhost:8080/"
        },
        "id": "pJbXTnYvC0FI",
        "outputId": "3d39d492-4646-4d8e-cac2-29936e5df6e0"
      },
      "outputs": [
        {
          "name": "stdout",
          "output_type": "stream",
          "text": [
            "object\n",
            "object\n",
            "65842\n"
          ]
        }
      ],
      "source": [
        "# Data cleaning, type conversion and filtering DataFrame\n",
        "def clean_data( dataframe , features ):\n",
        "\n",
        "  # remove underscores and convert 'Annual Income' column from string to float\n",
        "\n",
        "  for f in features:\n",
        "    pd_cs_class = dataframe[dataframe[f].notna()]\n",
        "\n",
        "  # Check the data type of 'Annual_Income'\n",
        "  print(pd_cs_class['Annual_Income'].dtype)\n",
        "\n",
        "  # If 'Annual_Income' is not already a string, convert it\n",
        "  if pd_cs_class['Annual_Income'].dtype != 'object':\n",
        "      pd_cs_class['Annual_Income'] = pd_cs_class['Annual_Income'].astype(str)\n",
        "\n",
        "  # Now apply the string replacement and type conversion\n",
        "  pd_cs_class['Annual_Income'] = pd_cs_class['Annual_Income'].str.replace('_', '').astype(float)\n",
        "\n",
        "  pd_cs_class['Num_Credit_Inquiries'] = pd_cs_class['Num_Credit_Inquiries'].astype(int)\n",
        "  # filter out rows where 'Credit_Mix' has underscores\n",
        "  pd_cs_class = pd_cs_class[~pd_cs_class['Credit_Mix'].str.contains('_')]\n",
        "\n",
        "  # Check the data type of 'Outstanding_Debt' before applying string operations\n",
        "  print(pd_cs_class['Outstanding_Debt'].dtype)\n",
        "\n",
        "  # If it's already numeric, you don't need to remove underscores or convert it.\n",
        "  # If it's a mix of numeric and non-numeric, handle the non-numeric values appropriately before converting to float.\n",
        "  # For example, you could replace non-numeric values with NaN and then convert to float:\n",
        "  pd_cs_class['Outstanding_Debt'] = pd_cs_class['Outstanding_Debt'].replace('[^0-9.]', '', regex=True).astype(float)\n",
        "\n",
        "  pd_cs_class = pd_cs_class[pd_cs_class['Annual_Income'] < income_cutoff]\n",
        "\n",
        "  print(len(pd_cs_class))\n",
        "  \n",
        "  return pd_cs_class"
      ]
    },
    {
      "cell_type": "markdown",
      "metadata": {},
      "source": [
        "<H4><i>Scale and feature transformation, including encoding target variable</i></H4>"
      ]
    },
    {
      "cell_type": "code",
      "execution_count": null,
      "metadata": {},
      "outputs": [],
      "source": [
        "pd_cs_class = clean_data( pd_cs_class , features )\n",
        "\n",
        "scaler = MinMaxScaler()\n",
        "pd_cs_class[features] = scaler.fit_transform(pd_cs_class[features])\n",
        "\n",
        "df_X = pd_cs_class[features]\n",
        "\n",
        "df_y = pd_cs_class['Credit_Score']\n",
        "cs_mapping = {\n",
        "    'Good': 3,\n",
        "    'Standard':2,\n",
        "    'Poor':1\n",
        "}\n",
        "df_y = df_y.map(cs_mapping)"
      ]
    },
    {
      "cell_type": "markdown",
      "metadata": {},
      "source": [
        "<H4><i><b>Split data for training</b></i></H4>"
      ]
    },
    {
      "cell_type": "code",
      "execution_count": 11,
      "metadata": {
        "id": "6IJItOOfC0FK"
      },
      "outputs": [],
      "source": [
        "x_train, x_test, y_train, y_test = train_test_split(df_X,df_y,test_size=0.2,random_state=42)"
      ]
    },
    {
      "cell_type": "code",
      "execution_count": 12,
      "metadata": {
        "colab": {
          "base_uri": "https://localhost:8080/"
        },
        "id": "vQPTpBhGC0FK",
        "outputId": "684e4e17-2c8c-4698-b9eb-8d1e37614d76"
      },
      "outputs": [
        {
          "name": "stdout",
          "output_type": "stream",
          "text": [
            "Libraries imported.\n",
            "Keras version: 2.10.0\n",
            "TensorFlow version: 2.10.0\n"
          ]
        }
      ],
      "source": [
        "import tensorflow\n",
        "from tensorflow import keras\n",
        "from tensorflow.keras import models\n",
        "from tensorflow.keras.models import Sequential\n",
        "from tensorflow.keras.layers import Dense\n",
        "from tensorflow.keras import utils\n",
        "from tensorflow.keras import optimizers\n",
        "\n",
        "# Set random seed for reproducability\n",
        "tensorflow.random.set_seed(0)\n",
        "\n",
        "print(\"Libraries imported.\")\n",
        "print('Keras version:',keras.__version__)\n",
        "print('TensorFlow version:',tensorflow.__version__)"
      ]
    },
    {
      "cell_type": "code",
      "execution_count": 13,
      "metadata": {
        "colab": {
          "base_uri": "https://localhost:8080/"
        },
        "id": "d9s_BQZNC0FK",
        "outputId": "211932f8-d458-4b58-8c27-f5efae860f94"
      },
      "outputs": [
        {
          "name": "stdout",
          "output_type": "stream",
          "text": [
            "Ready...\n"
          ]
        }
      ],
      "source": [
        "# Set data types for float features\n",
        "x_train = x_train.astype('float32')\n",
        "x_test = x_test.astype('float32')\n",
        "\n",
        "# Set data types for categorical labels\n",
        "y_train = utils.to_categorical(y_train)\n",
        "y_test = utils.to_categorical(y_test)\n",
        "print('Ready...')"
      ]
    },
    {
      "cell_type": "markdown",
      "metadata": {},
      "source": [
        "<H4><i>Setting up model and layers</i></H4>\n",
        " <H5>Multiple dense layers chosen with softmax-activated final layer for probabilistic output</H5>"
      ]
    },
    {
      "cell_type": "code",
      "execution_count": 14,
      "metadata": {
        "colab": {
          "base_uri": "https://localhost:8080/",
          "height": 305
        },
        "id": "J3v2jnIiC0FL",
        "outputId": "aec2dcb9-be8c-4cd0-e633-30b4a3d2151a"
      },
      "outputs": [
        {
          "name": "stdout",
          "output_type": "stream",
          "text": [
            "Model: \"sequential\"\n",
            "_________________________________________________________________\n",
            " Layer (type)                Output Shape              Param #   \n",
            "=================================================================\n",
            " dense (Dense)               (None, 1024)              13312     \n",
            "                                                                 \n",
            " dense_1 (Dense)             (None, 1024)              1049600   \n",
            "                                                                 \n",
            " dense_2 (Dense)             (None, 1024)              1049600   \n",
            "                                                                 \n",
            " dense_3 (Dense)             (None, 1024)              1049600   \n",
            "                                                                 \n",
            " dense_4 (Dense)             (None, 1024)              1049600   \n",
            "                                                                 \n",
            " dense_5 (Dense)             (None, 1024)              1049600   \n",
            "                                                                 \n",
            " dense_6 (Dense)             (None, 1024)              1049600   \n",
            "                                                                 \n",
            " dense_7 (Dense)             (None, 4)                 4100      \n",
            "                                                                 \n",
            "=================================================================\n",
            "Total params: 6,315,012\n",
            "Trainable params: 6,315,012\n",
            "Non-trainable params: 0\n",
            "_________________________________________________________________\n",
            "None\n"
          ]
        }
      ],
      "source": [
        "# Define a classifier network\n",
        "hl = 1024 # Number of hidden layer nodes\n",
        "\n",
        "model = Sequential()\n",
        "model.add(Dense(hl, input_dim=len(features), activation='relu'))\n",
        "model.add(Dense(hl, activation='relu'))\n",
        "model.add(Dense(hl, activation='relu'))\n",
        "model.add(Dense(hl, activation='relu'))\n",
        "model.add(Dense(hl, activation='relu'))\n",
        "model.add(Dense(hl, activation='relu'))\n",
        "model.add(Dense(hl, activation='relu'))\n",
        "model.add(Dense(4, input_dim=hl, activation='softmax'))\n",
        "\n",
        "print(model.summary())"
      ]
    },
    {
      "cell_type": "code",
      "execution_count": 15,
      "metadata": {
        "colab": {
          "base_uri": "https://localhost:8080/"
        },
        "id": "WAE4clJ6C0FL",
        "outputId": "bd6cd5ae-6264-4e0a-a5bf-773cbac2e4fe"
      },
      "outputs": [
        {
          "name": "stdout",
          "output_type": "stream",
          "text": [
            "Epoch 1/5\n",
            "5268/5268 [==============================] - 81s 15ms/step - loss: 0.8581 - accuracy: 0.5935 - val_loss: 0.8266 - val_accuracy: 0.6034\n",
            "Epoch 2/5\n",
            "5268/5268 [==============================] - 76s 14ms/step - loss: 0.8277 - accuracy: 0.6071 - val_loss: 0.8249 - val_accuracy: 0.6106\n",
            "Epoch 3/5\n",
            "5268/5268 [==============================] - 76s 14ms/step - loss: 0.8222 - accuracy: 0.6111 - val_loss: 0.8185 - val_accuracy: 0.6160\n",
            "Epoch 4/5\n",
            "5268/5268 [==============================] - 76s 14ms/step - loss: 0.8178 - accuracy: 0.6137 - val_loss: 0.8137 - val_accuracy: 0.6154\n",
            "Epoch 5/5\n",
            "5268/5268 [==============================] - 76s 14ms/step - loss: 0.8144 - accuracy: 0.6160 - val_loss: 0.8141 - val_accuracy: 0.6161\n"
          ]
        }
      ],
      "source": [
        "#hyper-parameters for optimizer\n",
        "\n",
        "opt = optimizers.Adam()\n",
        "\n",
        "model.compile(loss='categorical_crossentropy',\n",
        "              optimizer=opt,\n",
        "              metrics=['accuracy'])\n",
        "\n",
        "# Train the model over 5 epochs using 10-observation batches and using the test holdout dataset for validation\n",
        "num_epochs = 5\n",
        "history = model.fit(x_train, y_train, epochs=num_epochs, batch_size=10, validation_data=(x_test, y_test))"
      ]
    },
    {
      "cell_type": "code",
      "execution_count": 16,
      "metadata": {
        "colab": {
          "base_uri": "https://localhost:8080/",
          "height": 449
        },
        "id": "hS8zQc-zC0FL",
        "outputId": "9ba8b2dd-00c4-4a98-89d7-47e17de0c6b8"
      },
      "outputs": [
        {
          "data": {
            "image/png": "[encoded data removed]",
            "text/plain": [
              "<Figure size 640x480 with 1 Axes>"
            ]
          },
          "metadata": {},
          "output_type": "display_data"
        }
      ],
      "source": [
        "%matplotlib inline\n",
        "from matplotlib import pyplot as plt\n",
        "\n",
        "epoch_nums = range(1,num_epochs+1)\n",
        "training_loss = history.history[\"loss\"]\n",
        "validation_loss = history.history[\"val_loss\"]\n",
        "plt.plot(epoch_nums, training_loss)\n",
        "plt.plot(epoch_nums, validation_loss)\n",
        "plt.xlabel('epoch')\n",
        "plt.ylabel('loss')\n",
        "plt.legend(['training', 'validation'], loc='upper right')\n",
        "plt.show()"
      ]
    },
    {
      "cell_type": "code",
      "execution_count": 17,
      "metadata": {
        "colab": {
          "base_uri": "https://localhost:8080/"
        },
        "id": "1v5Hy63bC0FM",
        "outputId": "ca4001a1-1b7f-4a78-8998-fdb561fb595e"
      },
      "outputs": [
        {
          "name": "stdout",
          "output_type": "stream",
          "text": [
            "------------\n",
            "Weights:\n",
            " [[-0.03394852 -0.0211315  -0.06211228 ...  0.02250853  0.05593185\n",
            "  -0.1290032 ]\n",
            " [ 0.06096967 -0.00482667  0.02649536 ... -0.04916072  0.04649954\n",
            "  -0.00367858]\n",
            " [-0.01572555  0.0138066  -0.05885543 ... -0.01689259 -0.08460227\n",
            "  -0.08569903]\n",
            " ...\n",
            " [ 0.00465585  0.02499375  0.0591558  ... -0.01444725 -0.05440122\n",
            "   0.02260673]\n",
            " [-0.00143086 -0.03070187 -0.07541994 ...  0.00476647 -0.00544577\n",
            "  -0.18446194]\n",
            " [-0.02508558  0.01226515  0.03273484 ...  0.07272877 -0.06559534\n",
            "  -0.03973404]] \n",
            "Biases:\n",
            " [-0.06132194 -0.03655506 -0.13579164 ... -0.08053738 -0.01189508\n",
            " -0.10412475]\n",
            "------------\n",
            "Weights:\n",
            " [[-0.04042294  0.02987398  0.00844081 ... -0.0466167   0.03644856\n",
            "   0.01721438]\n",
            " [ 0.0075969   0.03946683  0.03221946 ... -0.04761482  0.02809292\n",
            "  -0.01638358]\n",
            " [-0.00270799  0.0333448   0.06381196 ... -0.06424166 -0.05935728\n",
            "  -0.06109473]\n",
            " ...\n",
            " [-0.01589879 -0.0507902   0.02663763 ...  0.03416301  0.04252313\n",
            "  -0.01021891]\n",
            " [ 0.0560131  -0.02697372 -0.03906254 ...  0.04825438 -0.01763215\n",
            "  -0.00359976]\n",
            " [-0.03324535 -0.02438368  0.05139108 ... -0.03739845 -0.0254274\n",
            "  -0.05334672]] \n",
            "Biases:\n",
            " [-0.00471141 -0.01598332 -0.08867321 ... -0.03275143 -0.01687422\n",
            " -0.02426631]\n",
            "------------\n",
            "Weights:\n",
            " [[-0.02030141 -0.03210374 -0.03806169 ... -0.04327886 -0.04486182\n",
            "  -0.01568599]\n",
            " [ 0.00194509  0.01759515  0.03521068 ... -0.00814529 -0.01087362\n",
            "   0.02061617]\n",
            " [ 0.02580241 -0.00776869 -0.05780038 ...  0.06992134 -0.0660978\n",
            "  -0.02400873]\n",
            " ...\n",
            " [ 0.0534934   0.02328931  0.08009576 ... -0.02834499  0.01545207\n",
            "   0.05017031]\n",
            " [ 0.00278941 -0.01542442  0.04748978 ...  0.04542684  0.00953444\n",
            "   0.0284162 ]\n",
            " [-0.0295886   0.03291138 -0.04238057 ...  0.04382452 -0.040047\n",
            "  -0.03548393]] \n",
            "Biases:\n",
            " [-0.07619662 -0.05017456 -0.04601372 ... -0.05742939 -0.01170991\n",
            " -0.07414607]\n",
            "------------\n",
            "Weights:\n",
            " [[-0.05677798 -0.00068003  0.04363132 ...  0.05365549  0.00417919\n",
            "   0.00836828]\n",
            " [-0.04383957  0.03432446 -0.01455511 ... -0.00134792 -0.011858\n",
            "  -0.02254511]\n",
            " [-0.0275846   0.01893465 -0.03291498 ...  0.04122744  0.03721998\n",
            "  -0.05146936]\n",
            " ...\n",
            " [ 0.08307868 -0.02483816 -0.03178051 ... -0.03194871 -0.03838142\n",
            "  -0.00360889]\n",
            " [ 0.02726706  0.0380857   0.05457692 ... -0.05158915 -0.0325554\n",
            "  -0.03792175]\n",
            " [-0.07930139  0.01921739 -0.03959299 ...  0.04331305 -0.0278112\n",
            "  -0.00859187]] \n",
            "Biases:\n",
            " [-0.04650917 -0.04385665 -0.04380662 ... -0.06112915 -0.03913515\n",
            " -0.01761081]\n",
            "------------\n",
            "Weights:\n",
            " [[ 0.04717616  0.0416129   0.03734033 ... -0.01504698  0.05367088\n",
            "   0.01236621]\n",
            " [-0.05188907  0.01630033 -0.03701119 ... -0.04818943  0.05266943\n",
            "  -0.02960202]\n",
            " [-0.03258595 -0.01502114  0.00862136 ...  0.02728646 -0.04344788\n",
            "   0.01313507]\n",
            " ...\n",
            " [-0.0220044  -0.04200351 -0.01580287 ... -0.04869825 -0.01507741\n",
            "   0.02462904]\n",
            " [-0.0549053  -0.03651361 -0.02660584 ... -0.0534754   0.00441422\n",
            "  -0.01356296]\n",
            " [-0.02825869  0.03038028  0.0348901  ...  0.01252998  0.04240058\n",
            "   0.01626388]] \n",
            "Biases:\n",
            " [-0.00282411 -0.091444   -0.04953592 ... -0.02343791 -0.05182071\n",
            " -0.04769444]\n",
            "------------\n",
            "Weights:\n",
            " [[-0.04210293 -0.05532453  0.05686885 ... -0.22979231 -0.05086168\n",
            "  -0.00804458]\n",
            " [ 0.00114015 -0.04908745 -0.02985771 ... -0.00386383 -0.03237901\n",
            "   0.03322583]\n",
            " [-0.01675491  0.00912852  0.04768407 ... -0.0204754   0.00278042\n",
            "  -0.00114103]\n",
            " ...\n",
            " [-0.04264728 -0.01734701 -0.00660305 ... -0.0233437  -0.00541935\n",
            "  -0.03024638]\n",
            " [-0.02581629  0.00105592 -0.04177408 ...  0.02541383 -0.03390155\n",
            "   0.04524663]\n",
            " [-0.0432248  -0.07093882 -0.04602758 ... -0.05432189 -0.0544652\n",
            "   0.04097329]] \n",
            "Biases:\n",
            " [-0.03438408 -0.05390133 -0.03897769 ...  0.02525316 -0.05650533\n",
            " -0.04698439]\n",
            "------------\n",
            "Weights:\n",
            " [[-0.01436749 -0.02141096 -0.02101653 ... -0.04695148  0.19780284\n",
            "  -0.05221245]\n",
            " [-0.02171722 -0.00826558  0.04086597 ... -0.00088299 -0.03344604\n",
            "   0.00826667]\n",
            " [-0.02560377  0.03571878 -0.06495554 ... -0.02905958  0.03915803\n",
            "  -0.01523377]\n",
            " ...\n",
            " [ 0.02713646 -0.05030749  0.02195331 ... -0.05182998 -0.00375831\n",
            "  -0.00526735]\n",
            " [ 0.00283179 -0.00918641 -0.03085853 ... -0.04923005  0.01095264\n",
            "   0.04866302]\n",
            " [-0.01997359  0.01631063 -0.00610104 ... -0.03912057 -0.01802517\n",
            "  -0.00531545]] \n",
            "Biases:\n",
            " [-0.05325845 -0.04155813  0.2604189  ... -0.08456106 -0.06948536\n",
            " -0.06658705]\n",
            "------------\n",
            "Weights:\n",
            " [[-0.04051695 -0.13854459  0.03194471 -0.02687061]\n",
            " [-0.07708758 -0.06174525  0.0158167  -0.02317999]\n",
            " [-1.3704965   0.04749849 -0.01080631 -0.38605174]\n",
            " ...\n",
            " [-0.3267858  -0.01392979  0.00974656  0.06579781]\n",
            " [-0.64535433  0.00634213  0.00222569  0.0107501 ]\n",
            " [-0.02172226 -0.00656333 -0.04291084  0.00542056]] \n",
            "Biases:\n",
            " [-1.0395681  -0.0952848   0.24794713 -0.21356492]\n"
          ]
        }
      ],
      "source": [
        "for layer in model.layers:\n",
        "    weights = layer.get_weights()[0]\n",
        "    biases = layer.get_weights()[1]\n",
        "    print('------------\\nWeights:\\n',weights,'\\nBiases:\\n', biases)"
      ]
    },
    {
      "cell_type": "code",
      "execution_count": 18,
      "metadata": {
        "colab": {
          "base_uri": "https://localhost:8080/",
          "height": 463
        },
        "id": "U8PK758HC0FM",
        "outputId": "f165e1bc-078b-4e9f-ff0c-a65433fad2a8"
      },
      "outputs": [
        {
          "name": "stdout",
          "output_type": "stream",
          "text": [
            "412/412 [==============================] - 2s 6ms/step\n"
          ]
        },
        {
          "data": {
            "image/png": "[encoded data removed]",
            "text/plain": [
              "<Figure size 640x480 with 2 Axes>"
            ]
          },
          "metadata": {},
          "output_type": "display_data"
        }
      ],
      "source": [
        "import numpy as np\n",
        "from sklearn.metrics import confusion_matrix\n",
        "import matplotlib.pyplot as plt\n",
        "%matplotlib inline\n",
        "\n",
        "\n",
        "class_probabilities = model.predict(x_test)\n",
        "predictions = np.argmax(class_probabilities, axis=1)\n",
        "true_labels = np.argmax(y_test, axis=1)\n",
        "\n",
        "# Plot the confusion matrix\n",
        "cm = confusion_matrix(true_labels, predictions)\n",
        "plt.imshow(cm, interpolation=\"nearest\", cmap=plt.cm.Blues)\n",
        "plt.colorbar()\n",
        "tick_marks = np.arange(3)\n",
        "plt.xticks(tick_marks,  rotation=85)\n",
        "plt.yticks(tick_marks, )\n",
        "plt.xlabel(\"Predicted Score\")\n",
        "plt.ylabel(\"Actual Score\")\n",
        "plt.show()"
      ]
    }
  ],
  "metadata": {
    "colab": {
      "provenance": []
    },
    "kernelspec": {
      "display_name": "Python 3",
      "language": "python",
      "name": "python3"
    },
    "language_info": {
      "codemirror_mode": {
        "name": "ipython",
        "version": 3
      },
      "file_extension": ".py",
      "mimetype": "text/x-python",
      "name": "python",
      "nbconvert_exporter": "python",
      "pygments_lexer": "ipython3",
      "version": "3.9.6"
    }
  },
  "nbformat": 4,
  "nbformat_minor": 0
}
