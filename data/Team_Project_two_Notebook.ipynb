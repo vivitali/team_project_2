{
 "cells": [
  {
   "cell_type": "code",
   "execution_count": 14,
   "metadata": {},
   "outputs": [],
   "source": [
    "# Load libraries\n",
    "import pandas as pd\n",
    "import numpy as np\n",
    "#import seaborn as sns\n",
    "import matplotlib.pyplot as plt\n",
    "import urllib\n",
    "from pathlib import Path\n",
    "import os\n",
    "import urllib\n",
    "#import statsmodels.api as sm\n",
    "from sklearn.linear_model import LinearRegression\n",
    "from sklearn.preprocessing import StandardScaler\n",
    "from sklearn.preprocessing import MinMaxScaler\n",
    "from sklearn.model_selection import train_test_split\n",
    "from sklearn.neighbors import KNeighborsRegressor\n",
    "\n",
    "pd.options.display.max_columns = 50"
   ]
  },
  {
   "cell_type": "code",
   "execution_count": 6,
   "metadata": {},
   "outputs": [],
   "source": [
    "relative_path = '/raw/train.csv'\n",
    "train_path = '/raw/train.csv'\n",
    "\n",
    "cur_wd = os.getcwd()\n",
    "\n",
    "file_path = cur_wd + relative_path\n"
   ]
  },
  {
   "cell_type": "code",
   "execution_count": 7,
   "metadata": {},
   "outputs": [],
   "source": [
    "def load_set_data(target_month, outlier_cutoff, income_cutoff, path):\n",
    "    relative_path = path\n",
    "    cur_wd = os.getcwd()\n",
    "    file_path = cur_wd + relative_path\n",
    "\n",
    "    if not Path(file_path).exists():\n",
    "        print('Filepath does not exist in the \"raw\" folder. Check again')\n",
    "        \n",
    "    else:\n",
    "        print('Loading and cleaning data.')\n",
    "\n",
    "    d_types = {'ID': str, 'Customer_ID': str, 'Month': str, 'Name': str, 'Age': int, 'SSN': str, 'Occupation': str, 'Annual_Income': str, 'Monthly_Inhand_Salary': float, 'Num_Bank_Accounts': int, 'Num_Credit_Card': int, 'Interest_Rate': int, 'Num_of_Loan': int,'Type_of_Loan': str,\n",
    "'Delay_from_due_date': int, 'Num_of_Delayed_Payment': int, 'Changed_Credit_Limit': float, 'Num_Credit_Inquiries': float, 'Credit_Mix': str, 'Outstanding_Debt': str, 'Credit_Utilization_Ratio': float, 'Credit_History_Age': float, 'Payment_of_Min_Amount': str, 'Total_EMI_per_month': float,\n",
    "       'Amount_invested_monthly': float, 'Payment_Behaviour': str, 'Monthly_Balance':float, 'Credit_Score':str}\n",
    "\n",
    "\n",
    "    df = pd.read_csv(file_path)\n",
    "    \n",
    "    # Data cleaning, type conversion and filtering DataFrame\n",
    "    # remove underscores and convert 'Annual Income' column from string to float\n",
    "    df['Annual_Income'] = df['Annual_Income'].str.replace('_', '').astype(float) \n",
    "\n",
    "    # filter out rows where 'Num_Credit_Inquiries' is blank and convert to integer\n",
    "    df = df[df['Num_Credit_Inquiries'].notna()]\n",
    "    df['Num_Credit_Inquiries'] = df['Num_Credit_Inquiries'].astype(int)\n",
    "    \n",
    "    # filter out rows where 'Credit_Mix' has underscores\n",
    "    df = df[~df['Credit_Mix'].str.contains('_')]\n",
    "\n",
    "    # remove underscores and convert 'Outstanding_Debt' column from string to float\n",
    "    df['Outstanding_Debt'] = df['Outstanding_Debt'].str.replace('_', '').astype(float)\n",
    "\n",
    "    # no changes required for \"Credit_Utilization_Ratio\"\n",
    "\n",
    "    # further filtering based on specific conditions\n",
    "    df['Amount_invested_monthly'] = df['Amount_invested_monthly'].str.replace('_', '').astype(float)\n",
    "    single_month_frame = df[df['Month'] ==  target_month]\n",
    "    single_month_frame = single_month_frame[single_month_frame['Type_of_Loan'] !=  'Auto Loan']\n",
    "    single_month_frame = single_month_frame[single_month_frame['Amount_invested_monthly'] < outlier_cutoff]\n",
    "    single_month_frame = single_month_frame[single_month_frame['Annual_Income'] < income_cutoff]\n",
    "    \n",
    "\n",
    "    return single_month_frame"
   ]
  },
  {
   "cell_type": "code",
   "execution_count": 9,
   "metadata": {},
   "outputs": [
    {
     "name": "stdout",
     "output_type": "stream",
     "text": [
      "Loading and cleaning data.\n"
     ]
    },
    {
     "name": "stderr",
     "output_type": "stream",
     "text": [
      "C:\\Users\\shiya\\AppData\\Local\\Temp\\ipykernel_31312\\4217207163.py:17: DtypeWarning: Columns (26) have mixed types. Specify dtype option on import or set low_memory=False.\n",
      "  df = pd.read_csv(file_path)\n"
     ]
    },
    {
     "name": "stdout",
     "output_type": "stream",
     "text": [
      "Number of rows for April: 8782\n"
     ]
    }
   ],
   "source": [
    "# checking data cleaning, type conversion and filtering DataFrame for April\n",
    "\n",
    "# Load data for April with specified cutoffs\n",
    "target_month = 'April'\n",
    "outlier_cutoff = 10000\n",
    "income_cutoff = 1000000\n",
    "path = train_path\n",
    "\n",
    "# Call the function to get the filtered DataFrame\n",
    "april_data = load_set_data(target_month, outlier_cutoff, income_cutoff, path)\n",
    "\n",
    "# Print the number of rows\n",
    "print(f'Number of rows for {target_month}:', len(april_data))"
   ]
  },
  {
   "cell_type": "markdown",
   "metadata": {},
   "source": [
    "END OF CLEAN."
   ]
  },
  {
   "cell_type": "markdown",
   "metadata": {},
   "source": [
    "### Starting Deep Learning model"
   ]
  },
  {
   "cell_type": "code",
   "execution_count": 11,
   "metadata": {},
   "outputs": [
    {
     "name": "stderr",
     "output_type": "stream",
     "text": [
      "C:\\Users\\shiya\\AppData\\Local\\Temp\\ipykernel_31312\\391738695.py:3: DtypeWarning: Columns (26) have mixed types. Specify dtype option on import or set low_memory=False.\n",
      "  pd_cs_class = pd.read_csv(file_path_cs_class)\n"
     ]
    }
   ],
   "source": [
    "file_path_cs_class =  'raw/train.csv' \n",
    "\n",
    "pd_cs_class = pd.read_csv(file_path_cs_class)"
   ]
  },
  {
   "cell_type": "code",
   "execution_count": 12,
   "metadata": {},
   "outputs": [],
   "source": [
    "    # Data cleaning, type conversion and filtering DataFrame\n",
    "# remove underscores and convert 'Annual Income' column from string to float\n",
    "pd_cs_class['Annual_Income'] = pd_cs_class['Annual_Income'].str.replace('_', '').astype(float) \n",
    "\n",
    "# filter out rows where 'Num_Credit_Inquiries' is blank and convert to integer\n",
    "pd_cs_class = pd_cs_class[pd_cs_class['Num_Credit_Inquiries'].notna()]\n",
    "pd_cs_class['Num_Credit_Inquiries'] = pd_cs_class['Num_Credit_Inquiries'].astype(int)\n",
    "\n",
    "# filter out rows where 'Credit_Mix' has underscores\n",
    "pd_cs_class = pd_cs_class[~pd_cs_class['Credit_Mix'].str.contains('_')]\n",
    "\n",
    "# remove underscores and convert 'Outstanding_Debt' column from string to float\n",
    "pd_cs_class['Outstanding_Debt'] = pd_cs_class['Outstanding_Debt'].str.replace('_', '').astype(float)\n",
    "\n",
    "\n",
    "pd_cs_class = pd_cs_class[pd_cs_class['Annual_Income'] < income_cutoff]"
   ]
  },
  {
   "cell_type": "code",
   "execution_count": null,
   "metadata": {},
   "outputs": [],
   "source": [
    "pd_cs_class.head(10)"
   ]
  },
  {
   "cell_type": "code",
   "execution_count": 16,
   "metadata": {},
   "outputs": [],
   "source": [
    "features = ['Annual_Income','Num_Credit_Inquiries','Outstanding_Debt','Annual_Income',\n",
    "            'Monthly_Inhand_Salary', 'Num_Bank_Accounts', 'Num_Credit_Card', 'Interest_Rate', \n",
    "            'Delay_from_due_date', 'Num_Credit_Inquiries', 'Credit_Utilization_Ratio', 'Total_EMI_per_month' ]\n",
    "\n",
    "scaler = MinMaxScaler()\n",
    "pd_cs_class[features] = scaler.fit_transform(pd_cs_class[features])"
   ]
  },
  {
   "cell_type": "code",
   "execution_count": 17,
   "metadata": {},
   "outputs": [],
   "source": [
    "df_X = pd_cs_class[features]"
   ]
  },
  {
   "cell_type": "code",
   "execution_count": null,
   "metadata": {},
   "outputs": [],
   "source": []
  },
  {
   "cell_type": "code",
   "execution_count": 18,
   "metadata": {},
   "outputs": [],
   "source": [
    "df_y = pd_cs_class['Credit_Score']\n",
    "cs_mapping = {\n",
    "    'Good': 3,\n",
    "    'Standard':2,\n",
    "    'Poor':1\n",
    "}\n",
    "df_y = df_y.map(cs_mapping)"
   ]
  },
  {
   "cell_type": "code",
   "execution_count": 19,
   "metadata": {},
   "outputs": [],
   "source": [
    "\n",
    "x_train, x_test, y_train, y_test = train_test_split(df_X,df_y,test_size=0.3,random_state=42)"
   ]
  },
  {
   "cell_type": "code",
   "execution_count": 20,
   "metadata": {},
   "outputs": [
    {
     "name": "stdout",
     "output_type": "stream",
     "text": [
      "Libraries imported.\n",
      "Keras version: 2.10.0\n",
      "TensorFlow version: 2.10.0\n"
     ]
    }
   ],
   "source": [
    "import tensorflow\n",
    "from tensorflow import keras\n",
    "from tensorflow.keras import models\n",
    "from tensorflow.keras.models import Sequential\n",
    "from tensorflow.keras.layers import Dense\n",
    "from tensorflow.keras import utils\n",
    "from tensorflow.keras import optimizers\n",
    "\n",
    "# Set random seed for reproducability\n",
    "tensorflow.random.set_seed(0)\n",
    "\n",
    "print(\"Libraries imported.\")\n",
    "print('Keras version:',keras.__version__)\n",
    "print('TensorFlow version:',tensorflow.__version__)"
   ]
  },
  {
   "cell_type": "code",
   "execution_count": 21,
   "metadata": {},
   "outputs": [
    {
     "name": "stdout",
     "output_type": "stream",
     "text": [
      "Ready...\n"
     ]
    }
   ],
   "source": [
    "# Set data types for float features\n",
    "x_train = x_train.astype('float32')\n",
    "x_test = x_test.astype('float32')\n",
    "\n",
    "# Set data types for categorical labels\n",
    "y_train = utils.to_categorical(y_train)\n",
    "y_test = utils.to_categorical(y_test)\n",
    "print('Ready...')"
   ]
  },
  {
   "cell_type": "code",
   "execution_count": 22,
   "metadata": {},
   "outputs": [
    {
     "name": "stdout",
     "output_type": "stream",
     "text": [
      "Model: \"sequential\"\n",
      "_________________________________________________________________\n",
      " Layer (type)                Output Shape              Param #   \n",
      "=================================================================\n",
      " dense (Dense)               (None, 10)                130       \n",
      "                                                                 \n",
      " dense_1 (Dense)             (None, 10)                110       \n",
      "                                                                 \n",
      " dense_2 (Dense)             (None, 4)                 44        \n",
      "                                                                 \n",
      "=================================================================\n",
      "Total params: 284\n",
      "Trainable params: 284\n",
      "Non-trainable params: 0\n",
      "_________________________________________________________________\n",
      "None\n"
     ]
    }
   ],
   "source": [
    "# Define a classifier network\n",
    "hl = 10 # Number of hidden layer nodes\n",
    "\n",
    "model = Sequential()\n",
    "model.add(Dense(hl, input_dim=len(features), activation='relu'))\n",
    "model.add(Dense(hl, input_dim=hl, activation='relu'))\n",
    "model.add(Dense(4, input_dim=hl, activation='softmax'))\n",
    "\n",
    "print(model.summary())"
   ]
  },
  {
   "cell_type": "code",
   "execution_count": 27,
   "metadata": {},
   "outputs": [
    {
     "name": "stdout",
     "output_type": "stream",
     "text": [
      "Epoch 1/5\n"
     ]
    },
    {
     "name": "stderr",
     "output_type": "stream",
     "text": [
      "c:\\Users\\shiya\\miniconda3\\envs\\proj2_ml_env\\lib\\site-packages\\keras\\optimizers\\optimizer_v2\\adam.py:114: UserWarning: The `lr` argument is deprecated, use `learning_rate` instead.\n",
      "  super().__init__(name, **kwargs)\n"
     ]
    },
    {
     "name": "stdout",
     "output_type": "stream",
     "text": [
      "5422/5423 [============================>.] - ETA: 0s - loss: 1.0123 - accuracy: 0.5310"
     ]
    }
   ],
   "source": [
    "#hyper-parameters for optimizer\n",
    "learning_rate = 0.1\n",
    "opt = optimizers.Adam(lr=learning_rate)\n",
    "\n",
    "model.compile(loss='categorical_crossentropy',\n",
    "              optimizer=opt,\n",
    "              metrics=['accuracy'])\n",
    "\n",
    "# Train the model over 50 epochs using 10-observation batches and using the test holdout dataset for validation\n",
    "num_epochs = 5\n",
    "history = model.fit(x_train, y_train, epochs=num_epochs, batch_size=10, validation_data=(x_test, y_test))"
   ]
  },
  {
   "cell_type": "code",
   "execution_count": 24,
   "metadata": {},
   "outputs": [
    {
     "data": {
      "image/png": "[encoded data removed]",
      "text/plain": [
       "<Figure size 640x480 with 1 Axes>"
      ]
     },
     "metadata": {},
     "output_type": "display_data"
    }
   ],
   "source": [
    "%matplotlib inline\n",
    "from matplotlib import pyplot as plt\n",
    "\n",
    "epoch_nums = range(1,num_epochs+1)\n",
    "training_loss = history.history[\"loss\"]\n",
    "validation_loss = history.history[\"val_loss\"]\n",
    "plt.plot(epoch_nums, training_loss)\n",
    "plt.plot(epoch_nums, validation_loss)\n",
    "plt.xlabel('epoch')\n",
    "plt.ylabel('loss')\n",
    "plt.legend(['training', 'validation'], loc='upper right')\n",
    "plt.show()"
   ]
  },
  {
   "cell_type": "code",
   "execution_count": 25,
   "metadata": {},
   "outputs": [
    {
     "name": "stdout",
     "output_type": "stream",
     "text": [
      "------------\n",
      "Weights:\n",
      " [[-0.39784408 -0.4962504  -0.26637256  0.11860316  0.43133128 -0.35832083\n",
      "   0.37374762  0.04642121  0.08288898 -0.475403  ]\n",
      " [-0.2527326   0.3159513  -0.36232898  0.35723075  0.20638323 -0.06344533\n",
      "   0.05603208 -0.45221072  0.3870526   0.12423861]\n",
      " [-0.32680845  0.18991591  0.50175446 -0.0538385  -0.30436218 -0.04791209\n",
      "   0.06835122  0.06828778 -0.23142773  0.48725456]\n",
      " [ 0.20237601 -0.21935731 -0.35741007  0.3883292  -0.25512904 -0.27983147\n",
      "  -0.17427333  0.2337804  -0.05477206  0.01701541]\n",
      " [        nan         nan         nan         nan         nan         nan\n",
      "          nan         nan         nan         nan]\n",
      " [-0.13735884  0.465434    0.05137224  0.34059542 -0.33435154 -0.40595725\n",
      "  -0.47023112 -0.29229382 -0.3473497  -0.24288262]\n",
      " [-0.05686325 -0.17021343 -0.07847405 -0.34189165 -0.3432688  -0.4445723\n",
      "   0.47069606  0.3249938   0.02679604 -0.21297936]\n",
      " [ 0.5100114  -0.2519306   0.36695907  0.21271388  0.15151328 -0.48905975\n",
      "  -0.32317513  0.19083697 -0.32358214  0.34250656]\n",
      " [-0.04793262 -0.18644083  0.38748172 -0.15221679 -0.03245416  0.13327068\n",
      "  -0.10252133  0.40837556 -0.1764443   0.21437249]\n",
      " [-0.16121858 -0.44170335 -0.1333278   0.46083197  0.37187648 -0.1831738\n",
      "  -0.352298   -0.48192406  0.24005401  0.06686779]\n",
      " [-0.4622033  -0.46615323 -0.38621202 -0.22738594 -0.3020175  -0.5217868\n",
      "   0.00623154 -0.45543358  0.17243163  0.28734246]\n",
      " [ 0.26395965 -0.30755714  0.3334709  -0.33496243 -0.30584148 -0.20162833\n",
      "  -0.29785627  0.09365875  0.334588    0.47173396]] \n",
      "Biases:\n",
      " [ 0.          0.00796203 -0.00820901 -0.00790359  0.          0.\n",
      " -0.00683205  0.00843981 -0.0021362  -0.00842231]\n",
      "------------\n",
      "Weights:\n",
      " [[ 4.7420406e-01 -4.1737068e-01  8.1204176e-03  3.4718418e-01\n",
      "   2.2922695e-01 -3.1772658e-01  4.1799575e-01  3.1710750e-01\n",
      "   4.3148947e-01 -5.0885421e-01]\n",
      " [ 4.3974867e-01  4.1213134e-01  2.3652172e-01 -2.7036348e-01\n",
      "  -2.2939023e-01 -5.9356600e-02 -1.8247750e-01 -3.8740180e-02\n",
      "  -1.8432243e-01  5.0416994e-01]\n",
      " [-1.6033846e-01 -5.0373745e-01  2.0793359e-01  4.0181449e-01\n",
      "   3.8435334e-01 -3.5430309e-01  4.4333029e-01  4.9826074e-01\n",
      "   3.2029906e-01  1.6459174e-01]\n",
      " [ 2.7614773e-05  4.9486673e-01 -3.8339013e-01  1.5456423e-01\n",
      "   1.7133780e-02  8.1791684e-02 -3.1099993e-01  5.3673017e-01\n",
      "   7.2515778e-02 -5.0693655e-01]\n",
      " [-4.0297380e-01 -2.4928033e-02 -2.3531377e-01 -1.2498140e-02\n",
      "  -2.5474697e-01  5.0524080e-01  3.4188455e-01  2.1700245e-01\n",
      "   3.8250792e-01 -2.2334898e-01]\n",
      " [-2.6994967e-01  1.2466490e-02 -3.7084335e-01 -9.9152267e-02\n",
      "   2.0480663e-01 -3.4768254e-01 -3.9862549e-01 -6.8134665e-02\n",
      "  -3.0856785e-01 -8.5697353e-02]\n",
      " [-2.5729278e-01  3.9297625e-01 -4.0060687e-01 -9.5923863e-02\n",
      "   9.0412963e-03  3.8293642e-01 -7.0135109e-02 -3.5785788e-01\n",
      "   1.1693950e-01 -3.4544894e-01]\n",
      " [ 1.9133648e-01  1.6097817e-01  1.8036237e-01 -4.5113203e-01\n",
      "   2.1265742e-01 -3.5602951e-01 -1.6361895e-01 -2.2183023e-01\n",
      "  -4.2163783e-01 -4.3314371e-01]\n",
      " [-8.1874669e-02  4.7412658e-01  1.5677911e-01 -2.9527041e-01\n",
      "  -4.8911190e-01 -1.8774984e-02 -2.3660854e-01  3.4183115e-01\n",
      "   2.6328865e-01 -1.8897881e-01]\n",
      " [-4.3860382e-01 -3.7607560e-01 -2.8495413e-01 -1.3011533e-01\n",
      "  -4.1473576e-01  5.0458735e-01 -2.1557871e-01 -2.7901867e-01\n",
      "   3.2384810e-01  2.6061860e-01]] \n",
      "Biases:\n",
      " [ 0.26499617 -0.00555834 -0.00845778 -0.00167059  0.3070064  -0.00254106\n",
      " -0.00432712 -0.00619047 -0.00828381 -0.00459044]\n",
      "------------\n",
      "Weights:\n",
      " [[ -9.66739      0.20198293   0.6970749    0.14727685]\n",
      " [  0.42619112  -0.60916036  -0.04274274  -0.29272366]\n",
      " [  0.42095232  -0.18063012   0.15905046   0.4605446 ]\n",
      " [-10.2859955    0.61505765   0.6156463    0.5747796 ]\n",
      " [-10.557108     0.55201924   0.7973286    0.16155575]\n",
      " [  0.49502838  -0.1510254    0.6017305    0.39151293]\n",
      " [  0.63846016  -0.2916879    0.19524342  -0.3038524 ]\n",
      " [  0.4998216   -0.35847667   0.21579407   0.3635171 ]\n",
      " [  0.6346135    0.5344942   -0.6045424   -0.54905903]\n",
      " [  0.5944153   -0.2147641    0.29472175  -0.6280226 ]] \n",
      "Biases:\n",
      " [-11.98429      0.12882054   0.4663775   -0.26865298]\n"
     ]
    }
   ],
   "source": [
    "for layer in model.layers:\n",
    "    weights = layer.get_weights()[0]\n",
    "    biases = layer.get_weights()[1]\n",
    "    print('------------\\nWeights:\\n',weights,'\\nBiases:\\n', biases)"
   ]
  },
  {
   "cell_type": "code",
   "execution_count": null,
   "metadata": {},
   "outputs": [],
   "source": [
    "import numpy as np\n",
    "from sklearn.metrics import confusion_matrix\n",
    "import matplotlib.pyplot as plt\n",
    "%matplotlib inline\n",
    "\n",
    "\n",
    "class_probabilities = model.predict(x_test)\n",
    "predictions = np.argmax(class_probabilities, axis=1)\n",
    "true_labels = np.argmax(y_test, axis=1)\n",
    "\n",
    "# Plot the confusion matrix\n",
    "cm = confusion_matrix(true_labels, predictions)\n",
    "plt.imshow(cm, interpolation=\"nearest\", cmap=plt.cm.Blues)\n",
    "plt.colorbar()\n",
    "tick_marks = np.arange(3)\n",
    "plt.xticks(tick_marks,  rotation=85)\n",
    "plt.yticks(tick_marks, )\n",
    "plt.xlabel(\"Predicted Score\")\n",
    "plt.ylabel(\"Actual Score\")\n",
    "plt.show()"
   ]
  }
 ],
 "metadata": {
  "kernelspec": {
   "display_name": "Python 3",
   "language": "python",
   "name": "python3"
  },
  "language_info": {
   "codemirror_mode": {
    "name": "ipython",
    "version": 3
   },
   "file_extension": ".py",
   "mimetype": "text/x-python",
   "name": "python",
   "nbconvert_exporter": "python",
   "pygments_lexer": "ipython3",
   "version": "3.10.13"
  }
 },
 "nbformat": 4,
 "nbformat_minor": 2
}
