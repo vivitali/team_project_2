{
 "cells": [
  {
   "cell_type": "code",
   "execution_count": 1,
   "metadata": {},
   "outputs": [],
   "source": [
    "# Load libraries\n",
    "import pandas as pd\n",
    "import numpy as np\n",
    "import seaborn as sns\n",
    "import matplotlib.pyplot as plt\n",
    "import urllib\n",
    "from pathlib import Path\n",
    "import os\n",
    "import urllib\n",
    "import statsmodels.api as sm\n",
    "from sklearn.linear_model import LinearRegression\n",
    "from sklearn.preprocessing import StandardScaler\n",
    "from sklearn.model_selection import train_test_split\n",
    "from sklearn.neighbors import KNeighborsRegressor\n",
    "\n",
    "pd.options.display.max_columns = 50"
   ]
  },
  {
   "cell_type": "code",
   "execution_count": 15,
   "metadata": {},
   "outputs": [],
   "source": [
    "relative_path = '/raw/train.csv'\n",
    "train_path = '/raw/train.csv'\n",
    "\n",
    "cur_wd = os.getcwd()\n",
    "\n",
    "file_path = cur_wd + relative_path\n"
   ]
  },
  {
   "cell_type": "code",
   "execution_count": 16,
   "metadata": {},
   "outputs": [],
   "source": [
    "def load_set_data(target_month, outlier_cutoff, income_cutoff, path):\n",
    "    relative_path = path\n",
    "    cur_wd = os.getcwd()\n",
    "    file_path = cur_wd + relative_path\n",
    "\n",
    "    if not Path(file_path).exists():\n",
    "        print('Filepath does not exist in the \"raw\" folder. Check again')\n",
    "        \n",
    "    else:\n",
    "        print('Loading and cleaning data.')\n",
    "\n",
    "    d_types = {'ID': str, 'Customer_ID': str, 'Month': str, 'Name': str, 'Age': int, 'SSN': str, 'Occupation': str, 'Annual_Income': str, 'Monthly_Inhand_Salary': float, 'Num_Bank_Accounts': int, 'Num_Credit_Card': int, 'Interest_Rate': int, 'Num_of_Loan': int,'Type_of_Loan': str,\n",
    "'Delay_from_due_date': int, 'Num_of_Delayed_Payment': int, 'Changed_Credit_Limit': float, 'Num_Credit_Inquiries': float, 'Credit_Mix': str, 'Outstanding_Debt': str, 'Credit_Utilization_Ratio': float, 'Credit_History_Age': float, 'Payment_of_Min_Amount': str, 'Total_EMI_per_month': float,\n",
    "       'Amount_invested_monthly': float, 'Payment_Behaviour': str, 'Monthly_Balance':float, 'Credit_Score':str}\n",
    "\n",
    "\n",
    "    df = pd.read_csv(file_path)\n",
    "    \n",
    "    # Data cleaning, type conversion and filtering DataFrame\n",
    "    # remove underscores and convert 'Annual Income' column from string to float\n",
    "    df['Annual_Income'] = df['Annual_Income'].str.replace('_', '').astype(float) \n",
    "\n",
    "    # filter out rows where 'Num_Credit_Inquiries' is blank and convert to integer\n",
    "    df = df[df['Num_Credit_Inquiries'].notna()]\n",
    "    df['Num_Credit_Inquiries'] = df['Num_Credit_Inquiries'].astype(int)\n",
    "    \n",
    "    # filter out rows where 'Credit_Mix' has underscores\n",
    "    df = df[~df['Credit_Mix'].str.contains('_')]\n",
    "\n",
    "    # remove underscores and convert 'Outstanding_Debt' column from string to float\n",
    "    df['Outstanding_Debt'] = df['Outstanding_Debt'].str.replace('_', '').astype(float)\n",
    "\n",
    "    # no changes required for \"Credit_Utilization_Ratio\"\n",
    "\n",
    "    # further filtering based on specific conditions\n",
    "    df['Amount_invested_monthly'] = df['Amount_invested_monthly'].str.replace('_', '').astype(float)\n",
    "    single_month_frame = df[df['Month'] ==  target_month]\n",
    "    single_month_frame = single_month_frame[single_month_frame['Type_of_Loan'] !=  'Auto Loan']\n",
    "    single_month_frame = single_month_frame[single_month_frame['Amount_invested_monthly'] < outlier_cutoff]\n",
    "    single_month_frame = single_month_frame[single_month_frame['Annual_Income'] < income_cutoff]\n",
    "    \n",
    "\n",
    "    return single_month_frame"
   ]
  },
  {
   "cell_type": "code",
   "execution_count": 18,
   "metadata": {},
   "outputs": [
    {
     "name": "stdout",
     "output_type": "stream",
     "text": [
      "Loading and cleaning data.\n",
      "Number of rows for April: 8782\n"
     ]
    },
    {
     "name": "stderr",
     "output_type": "stream",
     "text": [
      "C:\\Users\\adith\\AppData\\Local\\Temp\\ipykernel_21676\\4217207163.py:17: DtypeWarning: Columns (26) have mixed types. Specify dtype option on import or set low_memory=False.\n",
      "  df = pd.read_csv(file_path)\n"
     ]
    }
   ],
   "source": [
    "# checking data cleaning, type conversion and filtering DataFrame for April\n",
    "\n",
    "# Load data for April with specified cutoffs\n",
    "target_month = 'April'\n",
    "outlier_cutoff = 10000\n",
    "income_cutoff = 1000000\n",
    "path = train_path\n",
    "\n",
    "# Call the function to get the filtered DataFrame\n",
    "april_data = load_set_data(target_month, outlier_cutoff, income_cutoff, path)\n",
    "\n",
    "# Print the number of rows\n",
    "print(f'Number of rows for {target_month}:', len(april_data))"
   ]
  },
  {
   "cell_type": "markdown",
   "metadata": {},
   "source": [
    "END OF CLEAN."
   ]
  }
 ],
 "metadata": {
  "kernelspec": {
   "display_name": "Python 3",
   "language": "python",
   "name": "python3"
  },
  "language_info": {
   "codemirror_mode": {
    "name": "ipython",
    "version": 3
   },
   "file_extension": ".py",
   "mimetype": "text/x-python",
   "name": "python",
   "nbconvert_exporter": "python",
   "pygments_lexer": "ipython3",
   "version": "3.9.15"
  }
 },
 "nbformat": 4,
 "nbformat_minor": 2
}
