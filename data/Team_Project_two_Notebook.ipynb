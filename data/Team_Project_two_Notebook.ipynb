{
  "cells": [
    {
      "cell_type": "code",
      "execution_count": 5,
      "metadata": {
        "colab": {
          "base_uri": "https://localhost:8080/"
        },
        "id": "z_8KE6lUC0FD",
        "outputId": "2ea427c6-2140-479f-cf96-793673a74ff9"
      },
      "outputs": [
        {
          "name": "stdout",
          "output_type": "stream",
          "text": [
            "Requirement already satisfied: pathlib in /usr/local/lib/python3.10/dist-packages (1.0.1)\n"
          ]
        }
      ],
      "source": [
        "# Load libraries\n",
        "import pandas as pd\n",
        "import numpy as np\n",
        "#import seaborn as sns\n",
        "import matplotlib.pyplot as plt\n",
        "import urllib\n",
        "from pathlib import Path\n",
        "import os\n",
        "import urllib\n",
        "#import statsmodels.api as sm\n",
        "from sklearn.linear_model import LinearRegression\n",
        "from sklearn.preprocessing import StandardScaler\n",
        "from sklearn.preprocessing import MinMaxScaler\n",
        "from sklearn.model_selection import train_test_split\n",
        "from sklearn.neighbors import KNeighborsRegressor\n",
        "\n",
        "pd.options.display.max_columns = 50"
      ]
    },
    {
      "cell_type": "code",
      "execution_count": 6,
      "metadata": {
        "id": "FjHnBL-rC0FF"
      },
      "outputs": [],
      "source": [
        "relative_path = '/raw/train.csv'\n",
        "train_path = '/raw/train.csv'\n",
        "\n",
        "cur_wd = os.getcwd()\n",
        "\n",
        "file_path = cur_wd + relative_path\n"
      ]
    },
    {
      "cell_type": "code",
      "execution_count": 7,
      "metadata": {
        "id": "tSmdFaFHC0FF"
      },
      "outputs": [],
      "source": [
        "def load_set_data(target_month, outlier_cutoff, income_cutoff, path):\n",
        "    relative_path = path\n",
        "    cur_wd = os.getcwd()\n",
        "    file_path = cur_wd + relative_path\n",
        "\n",
        "    if not Path(file_path).exists():\n",
        "        print('Filepath does not exist in the \"raw\" folder. Check again')\n",
        "\n",
        "    else:\n",
        "        print('Loading and cleaning data.')\n",
        "\n",
        "    d_types = {'ID': str, 'Customer_ID': str, 'Month': str, 'Name': str, 'Age': int, 'SSN': str, 'Occupation': str, 'Annual_Income': str, 'Monthly_Inhand_Salary': float, 'Num_Bank_Accounts': int, 'Num_Credit_Card': int, 'Interest_Rate': int, 'Num_of_Loan': int,'Type_of_Loan': str,\n",
        "'Delay_from_due_date': int, 'Num_of_Delayed_Payment': int, 'Changed_Credit_Limit': float, 'Num_Credit_Inquiries': float, 'Credit_Mix': str, 'Outstanding_Debt': str, 'Credit_Utilization_Ratio': float, 'Credit_History_Age': float, 'Payment_of_Min_Amount': str, 'Total_EMI_per_month': float,\n",
        "       'Amount_invested_monthly': float, 'Payment_Behaviour': str, 'Monthly_Balance':float, 'Credit_Score':str}\n",
        "\n",
        "\n",
        "    df = pd.read_csv(file_path)\n",
        "\n",
        "    # Data cleaning, type conversion and filtering DataFrame\n",
        "    # remove underscores and convert 'Annual Income' column from string to float\n",
        "    df['Annual_Income'] = df['Annual_Income'].str.replace('_', '').astype(float)\n",
        "\n",
        "    # filter out rows where 'Num_Credit_Inquiries' is blank and convert to integer\n",
        "    df = df[df['Num_Credit_Inquiries'].notna()]\n",
        "    df['Num_Credit_Inquiries'] = df['Num_Credit_Inquiries'].astype(int)\n",
        "\n",
        "    # filter out rows where 'Credit_Mix' has underscores\n",
        "    df = df[~df['Credit_Mix'].str.contains('_')]\n",
        "\n",
        "    # remove underscores and convert 'Outstanding_Debt' column from string to float\n",
        "    df['Outstanding_Debt'] = df['Outstanding_Debt'].str.replace('_', '').astype(float)\n",
        "\n",
        "    # no changes required for \"Credit_Utilization_Ratio\"\n",
        "\n",
        "    # further filtering based on specific conditions\n",
        "    df['Amount_invested_monthly'] = df['Amount_invested_monthly'].str.replace('_', '').astype(float)\n",
        "    single_month_frame = df[df['Month'] ==  target_month]\n",
        "    single_month_frame = single_month_frame[single_month_frame['Type_of_Loan'] !=  'Auto Loan']\n",
        "    single_month_frame = single_month_frame[single_month_frame['Amount_invested_monthly'] < outlier_cutoff]\n",
        "    single_month_frame = single_month_frame[single_month_frame['Annual_Income'] < income_cutoff]\n",
        "\n",
        "\n",
        "    return single_month_frame"
      ]
    },
    {
      "cell_type": "code",
      "execution_count": 12,
      "metadata": {
        "colab": {
          "base_uri": "https://localhost:8080/"
        },
        "id": "S5JvyyvhC0FG",
        "outputId": "391a4c14-6cc9-4f1d-ecb2-5a29a87ce39a"
      },
      "outputs": [
        {
          "name": "stdout",
          "output_type": "stream",
          "text": [
            "/content\n",
            "/raw/train.csv\n",
            "Loading and cleaning data.\n"
          ]
        },
        {
          "name": "stderr",
          "output_type": "stream",
          "text": [
            "<ipython-input-7-5fe3beeb5db8>:17: DtypeWarning: Columns (26) have mixed types. Specify dtype option on import or set low_memory=False.\n",
            "  df = pd.read_csv(file_path)\n"
          ]
        },
        {
          "name": "stdout",
          "output_type": "stream",
          "text": [
            "Number of rows for April: 8777\n"
          ]
        }
      ],
      "source": [
        "# checking data cleaning, type conversion and filtering DataFrame for April\n",
        "\n",
        "# Load data for April with specified cutoffs\n",
        "target_month = 'April'\n",
        "outlier_cutoff = 10000\n",
        "income_cutoff = 500000\n",
        "path = train_path\n",
        "import os\n",
        "current_directory = os.getcwd()\n",
        "print(current_directory)\n",
        "print(path)\n",
        "\n",
        "# Call the function to get the filtered DataFrame\n",
        "april_data = load_set_data(target_month, outlier_cutoff, income_cutoff, path)\n",
        "\n",
        "# Print the number of rows\n",
        "print(f'Number of rows for {target_month}:', len(april_data))"
      ]
    },
    {
      "cell_type": "markdown",
      "metadata": {
        "id": "OcwMfMLnC0FH"
      },
      "source": [
        "END OF CLEAN."
      ]
    },
    {
      "cell_type": "markdown",
      "metadata": {
        "id": "45XFiIk_C0FI"
      },
      "source": [
        "### Starting Deep Learning model"
      ]
    },
    {
      "cell_type": "code",
      "execution_count": 13,
      "metadata": {
        "colab": {
          "base_uri": "https://localhost:8080/"
        },
        "id": "1xHO8VOIC0FI",
        "outputId": "6d676a9c-fda0-46af-c0f2-8bb78a34b482"
      },
      "outputs": [
        {
          "name": "stdout",
          "output_type": "stream",
          "text": [
            "Loading and cleaning data.\n"
          ]
        },
        {
          "name": "stderr",
          "output_type": "stream",
          "text": [
            "<ipython-input-13-a9998a15a169>:7: DtypeWarning: Columns (26) have mixed types. Specify dtype option on import or set low_memory=False.\n",
            "  pd_cs_class = pd.read_csv(file_path_cs_class)\n"
          ]
        }
      ],
      "source": [
        "file_path_cs_class =  'raw/train.csv'\n",
        "if not Path(file_path_cs_class).exists():\n",
        "    print('Filepath does not exist in the \"raw\" folder. Check again')\n",
        "else:\n",
        "    print('Loading and cleaning data.')\n",
        "\n",
        "\n",
        "pd_cs_class = pd.read_csv(file_path_cs_class)"
      ]
    },
    {
      "cell_type": "code",
      "execution_count": 25,
      "metadata": {
        "colab": {
          "base_uri": "https://localhost:8080/"
        },
        "id": "pJbXTnYvC0FI",
        "outputId": "3d39d492-4646-4d8e-cac2-29936e5df6e0"
      },
      "outputs": [
        {
          "name": "stdout",
          "output_type": "stream",
          "text": [
            "float64\n",
            "float64\n",
            "65842\n"
          ]
        }
      ],
      "source": [
        "# Data cleaning, type conversion and filtering DataFrame\n",
        "features = ['Annual_Income','Num_Credit_Inquiries','Outstanding_Debt','Annual_Income',\n",
        "            'Monthly_Inhand_Salary', 'Num_Bank_Accounts', 'Num_Credit_Card', 'Interest_Rate',\n",
        "            'Delay_from_due_date', 'Num_Credit_Inquiries', 'Credit_Utilization_Ratio', 'Total_EMI_per_month' ]\n",
        "\n",
        "\n",
        "# remove underscores and convert 'Annual Income' column from string to float\n",
        "\n",
        "for f in features:\n",
        "  pd_cs_class = pd_cs_class[pd_cs_class[f].notna()]\n",
        "\n",
        "# Check the data type of 'Annual_Income'\n",
        "print(pd_cs_class['Annual_Income'].dtype)\n",
        "\n",
        "# If 'Annual_Income' is not already a string, convert it\n",
        "if pd_cs_class['Annual_Income'].dtype != 'object':\n",
        "    pd_cs_class['Annual_Income'] = pd_cs_class['Annual_Income'].astype(str)\n",
        "\n",
        "# Now apply the string replacement and type conversion\n",
        "pd_cs_class['Annual_Income'] = pd_cs_class['Annual_Income'].str.replace('_', '').astype(float)\n",
        "\n",
        "pd_cs_class['Num_Credit_Inquiries'] = pd_cs_class['Num_Credit_Inquiries'].astype(int)\n",
        "# filter out rows where 'Credit_Mix' has underscores\n",
        "pd_cs_class = pd_cs_class[~pd_cs_class['Credit_Mix'].str.contains('_')]\n",
        "\n",
        "# Check the data type of 'Outstanding_Debt' before applying string operations\n",
        "print(pd_cs_class['Outstanding_Debt'].dtype)\n",
        "\n",
        "# If it's already numeric, you don't need to remove underscores or convert it.\n",
        "# If it's a mix of numeric and non-numeric, handle the non-numeric values appropriately before converting to float.\n",
        "# For example, you could replace non-numeric values with NaN and then convert to float:\n",
        "pd_cs_class['Outstanding_Debt'] = pd_cs_class['Outstanding_Debt'].replace('[^0-9.]', '', regex=True).astype(float)\n",
        "\n",
        "pd_cs_class = pd_cs_class[pd_cs_class['Annual_Income'] < income_cutoff]\n",
        "\n",
        "print(len(pd_cs_class))"
      ]
    },
    {
      "cell_type": "code",
      "execution_count": 26,
      "metadata": {
        "colab": {
          "base_uri": "https://localhost:8080/",
          "height": 695
        },
        "id": "E9p0jYXCC0FJ",
        "outputId": "a5fa70ad-8d0d-4515-ee7a-8e6cbb9c70fd"
      },
      "outputs": [
        {
          "data": {
            "application/vnd.google.colaboratory.intrinsic+json": {
              "type": "dataframe",
              "variable_name": "pd_cs_class"
            },
            "text/html": [
              "\n",
              "  <div id=\"df-dac412c5-f66a-491b-a938-d085136f171d\" class=\"colab-df-container\">\n",
              "    <div>\n",
              "<style scoped>\n",
              "    .dataframe tbody tr th:only-of-type {\n",
              "        vertical-align: middle;\n",
              "    }\n",
              "\n",
              "    .dataframe tbody tr th {\n",
              "        vertical-align: top;\n",
              "    }\n",
              "\n",
              "    .dataframe thead th {\n",
              "        text-align: right;\n",
              "    }\n",
              "</style>\n",
              "<table border=\"1\" class=\"dataframe\">\n",
              "  <thead>\n",
              "    <tr style=\"text-align: right;\">\n",
              "      <th></th>\n",
              "      <th>ID</th>\n",
              "      <th>Customer_ID</th>\n",
              "      <th>Month</th>\n",
              "      <th>Name</th>\n",
              "      <th>Age</th>\n",
              "      <th>SSN</th>\n",
              "      <th>Occupation</th>\n",
              "      <th>Annual_Income</th>\n",
              "      <th>Monthly_Inhand_Salary</th>\n",
              "      <th>Num_Bank_Accounts</th>\n",
              "      <th>Num_Credit_Card</th>\n",
              "      <th>Interest_Rate</th>\n",
              "      <th>Num_of_Loan</th>\n",
              "      <th>Type_of_Loan</th>\n",
              "      <th>Delay_from_due_date</th>\n",
              "      <th>Num_of_Delayed_Payment</th>\n",
              "      <th>Changed_Credit_Limit</th>\n",
              "      <th>Num_Credit_Inquiries</th>\n",
              "      <th>Credit_Mix</th>\n",
              "      <th>Outstanding_Debt</th>\n",
              "      <th>Credit_Utilization_Ratio</th>\n",
              "      <th>Credit_History_Age</th>\n",
              "      <th>Payment_of_Min_Amount</th>\n",
              "      <th>Total_EMI_per_month</th>\n",
              "      <th>Amount_invested_monthly</th>\n",
              "      <th>Payment_Behaviour</th>\n",
              "      <th>Monthly_Balance</th>\n",
              "      <th>Credit_Score</th>\n",
              "    </tr>\n",
              "  </thead>\n",
              "  <tbody>\n",
              "    <tr>\n",
              "      <th>4</th>\n",
              "      <td>0x1606</td>\n",
              "      <td>CUS_0xd40</td>\n",
              "      <td>May</td>\n",
              "      <td>Aaron Maashoh</td>\n",
              "      <td>23</td>\n",
              "      <td>821-00-0265</td>\n",
              "      <td>Scientist</td>\n",
              "      <td>19114.12</td>\n",
              "      <td>1824.843333</td>\n",
              "      <td>3</td>\n",
              "      <td>4</td>\n",
              "      <td>3</td>\n",
              "      <td>4</td>\n",
              "      <td>Auto Loan, Credit-Builder Loan, Personal Loan,...</td>\n",
              "      <td>6</td>\n",
              "      <td>NaN</td>\n",
              "      <td>11.27</td>\n",
              "      <td>4</td>\n",
              "      <td>Good</td>\n",
              "      <td>809.98</td>\n",
              "      <td>24.797347</td>\n",
              "      <td>22 Years and 5 Months</td>\n",
              "      <td>No</td>\n",
              "      <td>49.574949</td>\n",
              "      <td>41.420153086217326</td>\n",
              "      <td>High_spent_Medium_value_payments</td>\n",
              "      <td>341.48923103222177</td>\n",
              "      <td>Good</td>\n",
              "    </tr>\n",
              "    <tr>\n",
              "      <th>6</th>\n",
              "      <td>0x1608</td>\n",
              "      <td>CUS_0xd40</td>\n",
              "      <td>July</td>\n",
              "      <td>Aaron Maashoh</td>\n",
              "      <td>23</td>\n",
              "      <td>821-00-0265</td>\n",
              "      <td>Scientist</td>\n",
              "      <td>19114.12</td>\n",
              "      <td>1824.843333</td>\n",
              "      <td>3</td>\n",
              "      <td>4</td>\n",
              "      <td>3</td>\n",
              "      <td>4</td>\n",
              "      <td>Auto Loan, Credit-Builder Loan, Personal Loan,...</td>\n",
              "      <td>3</td>\n",
              "      <td>8_</td>\n",
              "      <td>11.27</td>\n",
              "      <td>4</td>\n",
              "      <td>Good</td>\n",
              "      <td>809.98</td>\n",
              "      <td>22.537593</td>\n",
              "      <td>22 Years and 7 Months</td>\n",
              "      <td>No</td>\n",
              "      <td>49.574949</td>\n",
              "      <td>178.3440674122349</td>\n",
              "      <td>Low_spent_Small_value_payments</td>\n",
              "      <td>244.5653167062043</td>\n",
              "      <td>Good</td>\n",
              "    </tr>\n",
              "    <tr>\n",
              "      <th>7</th>\n",
              "      <td>0x1609</td>\n",
              "      <td>CUS_0xd40</td>\n",
              "      <td>August</td>\n",
              "      <td>NaN</td>\n",
              "      <td>23</td>\n",
              "      <td>#F%$D@*&amp;8</td>\n",
              "      <td>Scientist</td>\n",
              "      <td>19114.12</td>\n",
              "      <td>1824.843333</td>\n",
              "      <td>3</td>\n",
              "      <td>4</td>\n",
              "      <td>3</td>\n",
              "      <td>4</td>\n",
              "      <td>Auto Loan, Credit-Builder Loan, Personal Loan,...</td>\n",
              "      <td>3</td>\n",
              "      <td>6</td>\n",
              "      <td>11.27</td>\n",
              "      <td>4</td>\n",
              "      <td>Good</td>\n",
              "      <td>809.98</td>\n",
              "      <td>23.933795</td>\n",
              "      <td>NaN</td>\n",
              "      <td>No</td>\n",
              "      <td>49.574949</td>\n",
              "      <td>24.785216509052056</td>\n",
              "      <td>High_spent_Medium_value_payments</td>\n",
              "      <td>358.12416760938714</td>\n",
              "      <td>Standard</td>\n",
              "    </tr>\n",
              "    <tr>\n",
              "      <th>8</th>\n",
              "      <td>0x160e</td>\n",
              "      <td>CUS_0x21b1</td>\n",
              "      <td>January</td>\n",
              "      <td>Rick Rothackerj</td>\n",
              "      <td>28_</td>\n",
              "      <td>004-07-5839</td>\n",
              "      <td>_______</td>\n",
              "      <td>34847.84</td>\n",
              "      <td>3037.986667</td>\n",
              "      <td>2</td>\n",
              "      <td>4</td>\n",
              "      <td>6</td>\n",
              "      <td>1</td>\n",
              "      <td>Credit-Builder Loan</td>\n",
              "      <td>3</td>\n",
              "      <td>4</td>\n",
              "      <td>5.42</td>\n",
              "      <td>2</td>\n",
              "      <td>Good</td>\n",
              "      <td>605.03</td>\n",
              "      <td>24.464031</td>\n",
              "      <td>26 Years and 7 Months</td>\n",
              "      <td>No</td>\n",
              "      <td>18.816215</td>\n",
              "      <td>104.291825168246</td>\n",
              "      <td>Low_spent_Small_value_payments</td>\n",
              "      <td>470.69062692529184</td>\n",
              "      <td>Standard</td>\n",
              "    </tr>\n",
              "    <tr>\n",
              "      <th>9</th>\n",
              "      <td>0x160f</td>\n",
              "      <td>CUS_0x21b1</td>\n",
              "      <td>February</td>\n",
              "      <td>Rick Rothackerj</td>\n",
              "      <td>28</td>\n",
              "      <td>004-07-5839</td>\n",
              "      <td>Teacher</td>\n",
              "      <td>34847.84</td>\n",
              "      <td>3037.986667</td>\n",
              "      <td>2</td>\n",
              "      <td>4</td>\n",
              "      <td>6</td>\n",
              "      <td>1</td>\n",
              "      <td>Credit-Builder Loan</td>\n",
              "      <td>7</td>\n",
              "      <td>1</td>\n",
              "      <td>7.42</td>\n",
              "      <td>2</td>\n",
              "      <td>Good</td>\n",
              "      <td>605.03</td>\n",
              "      <td>38.550848</td>\n",
              "      <td>26 Years and 8 Months</td>\n",
              "      <td>No</td>\n",
              "      <td>18.816215</td>\n",
              "      <td>40.39123782853101</td>\n",
              "      <td>High_spent_Large_value_payments</td>\n",
              "      <td>484.5912142650067</td>\n",
              "      <td>Good</td>\n",
              "    </tr>\n",
              "    <tr>\n",
              "      <th>12</th>\n",
              "      <td>0x1612</td>\n",
              "      <td>CUS_0x21b1</td>\n",
              "      <td>May</td>\n",
              "      <td>Rick Rothackerj</td>\n",
              "      <td>28</td>\n",
              "      <td>004-07-5839</td>\n",
              "      <td>Teacher</td>\n",
              "      <td>34847.84</td>\n",
              "      <td>3037.986667</td>\n",
              "      <td>2</td>\n",
              "      <td>4</td>\n",
              "      <td>6</td>\n",
              "      <td>1</td>\n",
              "      <td>Credit-Builder Loan</td>\n",
              "      <td>3</td>\n",
              "      <td>1</td>\n",
              "      <td>6.42</td>\n",
              "      <td>2</td>\n",
              "      <td>Good</td>\n",
              "      <td>605.03</td>\n",
              "      <td>34.977895</td>\n",
              "      <td>26 Years and 11 Months</td>\n",
              "      <td>No</td>\n",
              "      <td>18.816215</td>\n",
              "      <td>130.11542024292334</td>\n",
              "      <td>Low_spent_Small_value_payments</td>\n",
              "      <td>444.8670318506144</td>\n",
              "      <td>Good</td>\n",
              "    </tr>\n",
              "    <tr>\n",
              "      <th>13</th>\n",
              "      <td>0x1613</td>\n",
              "      <td>CUS_0x21b1</td>\n",
              "      <td>June</td>\n",
              "      <td>Rick Rothackerj</td>\n",
              "      <td>28</td>\n",
              "      <td>004-07-5839</td>\n",
              "      <td>Teacher</td>\n",
              "      <td>34847.84</td>\n",
              "      <td>3037.986667</td>\n",
              "      <td>2</td>\n",
              "      <td>4</td>\n",
              "      <td>6</td>\n",
              "      <td>1</td>\n",
              "      <td>Credit-Builder Loan</td>\n",
              "      <td>3</td>\n",
              "      <td>0</td>\n",
              "      <td>5.42</td>\n",
              "      <td>2</td>\n",
              "      <td>Good</td>\n",
              "      <td>605.03</td>\n",
              "      <td>33.381010</td>\n",
              "      <td>27 Years and 0 Months</td>\n",
              "      <td>No</td>\n",
              "      <td>18.816215</td>\n",
              "      <td>43.477190144355745</td>\n",
              "      <td>High_spent_Large_value_payments</td>\n",
              "      <td>481.505261949182</td>\n",
              "      <td>Good</td>\n",
              "    </tr>\n",
              "    <tr>\n",
              "      <th>15</th>\n",
              "      <td>0x1615</td>\n",
              "      <td>CUS_0x21b1</td>\n",
              "      <td>August</td>\n",
              "      <td>Rick Rothackerj</td>\n",
              "      <td>28</td>\n",
              "      <td>004-07-5839</td>\n",
              "      <td>Teacher</td>\n",
              "      <td>34847.84</td>\n",
              "      <td>3037.986667</td>\n",
              "      <td>2</td>\n",
              "      <td>4</td>\n",
              "      <td>6</td>\n",
              "      <td>1</td>\n",
              "      <td>Credit-Builder Loan</td>\n",
              "      <td>3</td>\n",
              "      <td>4</td>\n",
              "      <td>5.42</td>\n",
              "      <td>2</td>\n",
              "      <td>Good</td>\n",
              "      <td>605.03</td>\n",
              "      <td>32.933856</td>\n",
              "      <td>27 Years and 2 Months</td>\n",
              "      <td>No</td>\n",
              "      <td>18.816215</td>\n",
              "      <td>218.90434353388733</td>\n",
              "      <td>Low_spent_Small_value_payments</td>\n",
              "      <td>356.07810855965045</td>\n",
              "      <td>Good</td>\n",
              "    </tr>\n",
              "    <tr>\n",
              "      <th>16</th>\n",
              "      <td>0x161a</td>\n",
              "      <td>CUS_0x2dbc</td>\n",
              "      <td>January</td>\n",
              "      <td>Langep</td>\n",
              "      <td>34</td>\n",
              "      <td>486-85-3974</td>\n",
              "      <td>_______</td>\n",
              "      <td>143162.64</td>\n",
              "      <td>12187.220000</td>\n",
              "      <td>1</td>\n",
              "      <td>5</td>\n",
              "      <td>8</td>\n",
              "      <td>3</td>\n",
              "      <td>Auto Loan, Auto Loan, and Not Specified</td>\n",
              "      <td>5</td>\n",
              "      <td>8</td>\n",
              "      <td>7.1</td>\n",
              "      <td>3</td>\n",
              "      <td>Good</td>\n",
              "      <td>1303.01</td>\n",
              "      <td>28.616735</td>\n",
              "      <td>17 Years and 9 Months</td>\n",
              "      <td>No</td>\n",
              "      <td>246.992319</td>\n",
              "      <td>168.413702679309</td>\n",
              "      <td>!@9#%8</td>\n",
              "      <td>1043.3159778669492</td>\n",
              "      <td>Good</td>\n",
              "    </tr>\n",
              "    <tr>\n",
              "      <th>17</th>\n",
              "      <td>0x161b</td>\n",
              "      <td>CUS_0x2dbc</td>\n",
              "      <td>February</td>\n",
              "      <td>NaN</td>\n",
              "      <td>34</td>\n",
              "      <td>486-85-3974</td>\n",
              "      <td>Engineer</td>\n",
              "      <td>143162.64</td>\n",
              "      <td>12187.220000</td>\n",
              "      <td>1</td>\n",
              "      <td>5</td>\n",
              "      <td>8</td>\n",
              "      <td>3</td>\n",
              "      <td>Auto Loan, Auto Loan, and Not Specified</td>\n",
              "      <td>13</td>\n",
              "      <td>6</td>\n",
              "      <td>7.1</td>\n",
              "      <td>3</td>\n",
              "      <td>Good</td>\n",
              "      <td>1303.01</td>\n",
              "      <td>41.702573</td>\n",
              "      <td>17 Years and 10 Months</td>\n",
              "      <td>No</td>\n",
              "      <td>246.992319</td>\n",
              "      <td>232.86038375993544</td>\n",
              "      <td>High_spent_Small_value_payments</td>\n",
              "      <td>998.8692967863226</td>\n",
              "      <td>Good</td>\n",
              "    </tr>\n",
              "  </tbody>\n",
              "</table>\n",
              "</div>\n",
              "    <div class=\"colab-df-buttons\">\n",
              "\n",
              "  <div class=\"colab-df-container\">\n",
              "    <button class=\"colab-df-convert\" onclick=\"convertToInteractive('df-dac412c5-f66a-491b-a938-d085136f171d')\"\n",
              "            title=\"Convert this dataframe to an interactive table.\"\n",
              "            style=\"display:none;\">\n",
              "\n",
              "  <svg xmlns=\"http://www.w3.org/2000/svg\" height=\"24px\" viewBox=\"0 -960 960 960\">\n",
              "    <path d=\"M120-120v-720h720v720H120Zm60-500h600v-160H180v160Zm220 220h160v-160H400v160Zm0 220h160v-160H400v160ZM180-400h160v-160H180v160Zm440 0h160v-160H620v160ZM180-180h160v-160H180v160Zm440 0h160v-160H620v160Z\"/>\n",
              "  </svg>\n",
              "    </button>\n",
              "\n",
              "  <style>\n",
              "    .colab-df-container {\n",
              "      display:flex;\n",
              "      gap: 12px;\n",
              "    }\n",
              "\n",
              "    .colab-df-convert {\n",
              "      background-color: #E8F0FE;\n",
              "      border: none;\n",
              "      border-radius: 50%;\n",
              "      cursor: pointer;\n",
              "      display: none;\n",
              "      fill: #1967D2;\n",
              "      height: 32px;\n",
              "      padding: 0 0 0 0;\n",
              "      width: 32px;\n",
              "    }\n",
              "\n",
              "    .colab-df-convert:hover {\n",
              "      background-color: #E2EBFA;\n",
              "      box-shadow: 0px 1px 2px rgba(60, 64, 67, 0.3), 0px 1px 3px 1px rgba(60, 64, 67, 0.15);\n",
              "      fill: #174EA6;\n",
              "    }\n",
              "\n",
              "    .colab-df-buttons div {\n",
              "      margin-bottom: 4px;\n",
              "    }\n",
              "\n",
              "    [theme=dark] .colab-df-convert {\n",
              "      background-color: #3B4455;\n",
              "      fill: #D2E3FC;\n",
              "    }\n",
              "\n",
              "    [theme=dark] .colab-df-convert:hover {\n",
              "      background-color: #434B5C;\n",
              "      box-shadow: 0px 1px 3px 1px rgba(0, 0, 0, 0.15);\n",
              "      filter: drop-shadow(0px 1px 2px rgba(0, 0, 0, 0.3));\n",
              "      fill: #FFFFFF;\n",
              "    }\n",
              "  </style>\n",
              "\n",
              "    <script>\n",
              "      const buttonEl =\n",
              "        document.querySelector('#df-dac412c5-f66a-491b-a938-d085136f171d button.colab-df-convert');\n",
              "      buttonEl.style.display =\n",
              "        google.colab.kernel.accessAllowed ? 'block' : 'none';\n",
              "\n",
              "      async function convertToInteractive(key) {\n",
              "        const element = document.querySelector('#df-dac412c5-f66a-491b-a938-d085136f171d');\n",
              "        const dataTable =\n",
              "          await google.colab.kernel.invokeFunction('convertToInteractive',\n",
              "                                                    [key], {});\n",
              "        if (!dataTable) return;\n",
              "\n",
              "        const docLinkHtml = 'Like what you see? Visit the ' +\n",
              "          '<a target=\"_blank\" href=https://colab.research.google.com/notebooks/data_table.ipynb>data table notebook</a>'\n",
              "          + ' to learn more about interactive tables.';\n",
              "        element.innerHTML = '';\n",
              "        dataTable['output_type'] = 'display_data';\n",
              "        await google.colab.output.renderOutput(dataTable, element);\n",
              "        const docLink = document.createElement('div');\n",
              "        docLink.innerHTML = docLinkHtml;\n",
              "        element.appendChild(docLink);\n",
              "      }\n",
              "    </script>\n",
              "  </div>\n",
              "\n",
              "\n",
              "<div id=\"df-9f2853a2-92ee-437e-a28f-789ce0dc056d\">\n",
              "  <button class=\"colab-df-quickchart\" onclick=\"quickchart('df-9f2853a2-92ee-437e-a28f-789ce0dc056d')\"\n",
              "            title=\"Suggest charts\"\n",
              "            style=\"display:none;\">\n",
              "\n",
              "<svg xmlns=\"http://www.w3.org/2000/svg\" height=\"24px\"viewBox=\"0 0 24 24\"\n",
              "     width=\"24px\">\n",
              "    <g>\n",
              "        <path d=\"M19 3H5c-1.1 0-2 .9-2 2v14c0 1.1.9 2 2 2h14c1.1 0 2-.9 2-2V5c0-1.1-.9-2-2-2zM9 17H7v-7h2v7zm4 0h-2V7h2v10zm4 0h-2v-4h2v4z\"/>\n",
              "    </g>\n",
              "</svg>\n",
              "  </button>\n",
              "\n",
              "<style>\n",
              "  .colab-df-quickchart {\n",
              "      --bg-color: #E8F0FE;\n",
              "      --fill-color: #1967D2;\n",
              "      --hover-bg-color: #E2EBFA;\n",
              "      --hover-fill-color: #174EA6;\n",
              "      --disabled-fill-color: #AAA;\n",
              "      --disabled-bg-color: #DDD;\n",
              "  }\n",
              "\n",
              "  [theme=dark] .colab-df-quickchart {\n",
              "      --bg-color: #3B4455;\n",
              "      --fill-color: #D2E3FC;\n",
              "      --hover-bg-color: #434B5C;\n",
              "      --hover-fill-color: #FFFFFF;\n",
              "      --disabled-bg-color: #3B4455;\n",
              "      --disabled-fill-color: #666;\n",
              "  }\n",
              "\n",
              "  .colab-df-quickchart {\n",
              "    background-color: var(--bg-color);\n",
              "    border: none;\n",
              "    border-radius: 50%;\n",
              "    cursor: pointer;\n",
              "    display: none;\n",
              "    fill: var(--fill-color);\n",
              "    height: 32px;\n",
              "    padding: 0;\n",
              "    width: 32px;\n",
              "  }\n",
              "\n",
              "  .colab-df-quickchart:hover {\n",
              "    background-color: var(--hover-bg-color);\n",
              "    box-shadow: 0 1px 2px rgba(60, 64, 67, 0.3), 0 1px 3px 1px rgba(60, 64, 67, 0.15);\n",
              "    fill: var(--button-hover-fill-color);\n",
              "  }\n",
              "\n",
              "  .colab-df-quickchart-complete:disabled,\n",
              "  .colab-df-quickchart-complete:disabled:hover {\n",
              "    background-color: var(--disabled-bg-color);\n",
              "    fill: var(--disabled-fill-color);\n",
              "    box-shadow: none;\n",
              "  }\n",
              "\n",
              "  .colab-df-spinner {\n",
              "    border: 2px solid var(--fill-color);\n",
              "    border-color: transparent;\n",
              "    border-bottom-color: var(--fill-color);\n",
              "    animation:\n",
              "      spin 1s steps(1) infinite;\n",
              "  }\n",
              "\n",
              "  @keyframes spin {\n",
              "    0% {\n",
              "      border-color: transparent;\n",
              "      border-bottom-color: var(--fill-color);\n",
              "      border-left-color: var(--fill-color);\n",
              "    }\n",
              "    20% {\n",
              "      border-color: transparent;\n",
              "      border-left-color: var(--fill-color);\n",
              "      border-top-color: var(--fill-color);\n",
              "    }\n",
              "    30% {\n",
              "      border-color: transparent;\n",
              "      border-left-color: var(--fill-color);\n",
              "      border-top-color: var(--fill-color);\n",
              "      border-right-color: var(--fill-color);\n",
              "    }\n",
              "    40% {\n",
              "      border-color: transparent;\n",
              "      border-right-color: var(--fill-color);\n",
              "      border-top-color: var(--fill-color);\n",
              "    }\n",
              "    60% {\n",
              "      border-color: transparent;\n",
              "      border-right-color: var(--fill-color);\n",
              "    }\n",
              "    80% {\n",
              "      border-color: transparent;\n",
              "      border-right-color: var(--fill-color);\n",
              "      border-bottom-color: var(--fill-color);\n",
              "    }\n",
              "    90% {\n",
              "      border-color: transparent;\n",
              "      border-bottom-color: var(--fill-color);\n",
              "    }\n",
              "  }\n",
              "</style>\n",
              "\n",
              "  <script>\n",
              "    async function quickchart(key) {\n",
              "      const quickchartButtonEl =\n",
              "        document.querySelector('#' + key + ' button');\n",
              "      quickchartButtonEl.disabled = true;  // To prevent multiple clicks.\n",
              "      quickchartButtonEl.classList.add('colab-df-spinner');\n",
              "      try {\n",
              "        const charts = await google.colab.kernel.invokeFunction(\n",
              "            'suggestCharts', [key], {});\n",
              "      } catch (error) {\n",
              "        console.error('Error during call to suggestCharts:', error);\n",
              "      }\n",
              "      quickchartButtonEl.classList.remove('colab-df-spinner');\n",
              "      quickchartButtonEl.classList.add('colab-df-quickchart-complete');\n",
              "    }\n",
              "    (() => {\n",
              "      let quickchartButtonEl =\n",
              "        document.querySelector('#df-9f2853a2-92ee-437e-a28f-789ce0dc056d button');\n",
              "      quickchartButtonEl.style.display =\n",
              "        google.colab.kernel.accessAllowed ? 'block' : 'none';\n",
              "    })();\n",
              "  </script>\n",
              "</div>\n",
              "\n",
              "    </div>\n",
              "  </div>\n"
            ],
            "text/plain": [
              "        ID Customer_ID     Month             Name  Age          SSN  \\\n",
              "4   0x1606   CUS_0xd40       May    Aaron Maashoh   23  821-00-0265   \n",
              "6   0x1608   CUS_0xd40      July    Aaron Maashoh   23  821-00-0265   \n",
              "7   0x1609   CUS_0xd40    August              NaN   23    #F%$D@*&8   \n",
              "8   0x160e  CUS_0x21b1   January  Rick Rothackerj  28_  004-07-5839   \n",
              "9   0x160f  CUS_0x21b1  February  Rick Rothackerj   28  004-07-5839   \n",
              "12  0x1612  CUS_0x21b1       May  Rick Rothackerj   28  004-07-5839   \n",
              "13  0x1613  CUS_0x21b1      June  Rick Rothackerj   28  004-07-5839   \n",
              "15  0x1615  CUS_0x21b1    August  Rick Rothackerj   28  004-07-5839   \n",
              "16  0x161a  CUS_0x2dbc   January           Langep   34  486-85-3974   \n",
              "17  0x161b  CUS_0x2dbc  February              NaN   34  486-85-3974   \n",
              "\n",
              "   Occupation  Annual_Income  Monthly_Inhand_Salary  Num_Bank_Accounts  \\\n",
              "4   Scientist       19114.12            1824.843333                  3   \n",
              "6   Scientist       19114.12            1824.843333                  3   \n",
              "7   Scientist       19114.12            1824.843333                  3   \n",
              "8     _______       34847.84            3037.986667                  2   \n",
              "9     Teacher       34847.84            3037.986667                  2   \n",
              "12    Teacher       34847.84            3037.986667                  2   \n",
              "13    Teacher       34847.84            3037.986667                  2   \n",
              "15    Teacher       34847.84            3037.986667                  2   \n",
              "16    _______      143162.64           12187.220000                  1   \n",
              "17   Engineer      143162.64           12187.220000                  1   \n",
              "\n",
              "    Num_Credit_Card  Interest_Rate Num_of_Loan  \\\n",
              "4                 4              3           4   \n",
              "6                 4              3           4   \n",
              "7                 4              3           4   \n",
              "8                 4              6           1   \n",
              "9                 4              6           1   \n",
              "12                4              6           1   \n",
              "13                4              6           1   \n",
              "15                4              6           1   \n",
              "16                5              8           3   \n",
              "17                5              8           3   \n",
              "\n",
              "                                         Type_of_Loan  Delay_from_due_date  \\\n",
              "4   Auto Loan, Credit-Builder Loan, Personal Loan,...                    6   \n",
              "6   Auto Loan, Credit-Builder Loan, Personal Loan,...                    3   \n",
              "7   Auto Loan, Credit-Builder Loan, Personal Loan,...                    3   \n",
              "8                                 Credit-Builder Loan                    3   \n",
              "9                                 Credit-Builder Loan                    7   \n",
              "12                                Credit-Builder Loan                    3   \n",
              "13                                Credit-Builder Loan                    3   \n",
              "15                                Credit-Builder Loan                    3   \n",
              "16            Auto Loan, Auto Loan, and Not Specified                    5   \n",
              "17            Auto Loan, Auto Loan, and Not Specified                   13   \n",
              "\n",
              "   Num_of_Delayed_Payment Changed_Credit_Limit  Num_Credit_Inquiries  \\\n",
              "4                     NaN                11.27                     4   \n",
              "6                      8_                11.27                     4   \n",
              "7                       6                11.27                     4   \n",
              "8                       4                 5.42                     2   \n",
              "9                       1                 7.42                     2   \n",
              "12                      1                 6.42                     2   \n",
              "13                      0                 5.42                     2   \n",
              "15                      4                 5.42                     2   \n",
              "16                      8                  7.1                     3   \n",
              "17                      6                  7.1                     3   \n",
              "\n",
              "   Credit_Mix  Outstanding_Debt  Credit_Utilization_Ratio  \\\n",
              "4        Good            809.98                 24.797347   \n",
              "6        Good            809.98                 22.537593   \n",
              "7        Good            809.98                 23.933795   \n",
              "8        Good            605.03                 24.464031   \n",
              "9        Good            605.03                 38.550848   \n",
              "12       Good            605.03                 34.977895   \n",
              "13       Good            605.03                 33.381010   \n",
              "15       Good            605.03                 32.933856   \n",
              "16       Good           1303.01                 28.616735   \n",
              "17       Good           1303.01                 41.702573   \n",
              "\n",
              "        Credit_History_Age Payment_of_Min_Amount  Total_EMI_per_month  \\\n",
              "4    22 Years and 5 Months                    No            49.574949   \n",
              "6    22 Years and 7 Months                    No            49.574949   \n",
              "7                      NaN                    No            49.574949   \n",
              "8    26 Years and 7 Months                    No            18.816215   \n",
              "9    26 Years and 8 Months                    No            18.816215   \n",
              "12  26 Years and 11 Months                    No            18.816215   \n",
              "13   27 Years and 0 Months                    No            18.816215   \n",
              "15   27 Years and 2 Months                    No            18.816215   \n",
              "16   17 Years and 9 Months                    No           246.992319   \n",
              "17  17 Years and 10 Months                    No           246.992319   \n",
              "\n",
              "   Amount_invested_monthly                 Payment_Behaviour  \\\n",
              "4       41.420153086217326  High_spent_Medium_value_payments   \n",
              "6        178.3440674122349    Low_spent_Small_value_payments   \n",
              "7       24.785216509052056  High_spent_Medium_value_payments   \n",
              "8         104.291825168246    Low_spent_Small_value_payments   \n",
              "9        40.39123782853101   High_spent_Large_value_payments   \n",
              "12      130.11542024292334    Low_spent_Small_value_payments   \n",
              "13      43.477190144355745   High_spent_Large_value_payments   \n",
              "15      218.90434353388733    Low_spent_Small_value_payments   \n",
              "16        168.413702679309                            !@9#%8   \n",
              "17      232.86038375993544   High_spent_Small_value_payments   \n",
              "\n",
              "       Monthly_Balance Credit_Score  \n",
              "4   341.48923103222177         Good  \n",
              "6    244.5653167062043         Good  \n",
              "7   358.12416760938714     Standard  \n",
              "8   470.69062692529184     Standard  \n",
              "9    484.5912142650067         Good  \n",
              "12   444.8670318506144         Good  \n",
              "13    481.505261949182         Good  \n",
              "15  356.07810855965045         Good  \n",
              "16  1043.3159778669492         Good  \n",
              "17   998.8692967863226         Good  "
            ]
          },
          "execution_count": 26,
          "metadata": {},
          "output_type": "execute_result"
        }
      ],
      "source": [
        "pd_cs_class.head(10)"
      ]
    },
    {
      "cell_type": "code",
      "execution_count": 27,
      "metadata": {
        "id": "lLdMXBY7C0FJ"
      },
      "outputs": [],
      "source": [
        "\n",
        "scaler = MinMaxScaler()\n",
        "pd_cs_class[features] = scaler.fit_transform(pd_cs_class[features])"
      ]
    },
    {
      "cell_type": "code",
      "execution_count": 28,
      "metadata": {
        "id": "0TjPHXjTC0FJ"
      },
      "outputs": [],
      "source": [
        "df_X = pd_cs_class[features]"
      ]
    },
    {
      "cell_type": "code",
      "execution_count": 29,
      "metadata": {
        "id": "IzHNJlznC0FK"
      },
      "outputs": [],
      "source": [
        "df_y = pd_cs_class['Credit_Score']\n",
        "cs_mapping = {\n",
        "    'Good': 3,\n",
        "    'Standard':2,\n",
        "    'Poor':1\n",
        "}\n",
        "df_y = df_y.map(cs_mapping)"
      ]
    },
    {
      "cell_type": "code",
      "execution_count": 30,
      "metadata": {
        "id": "6IJItOOfC0FK"
      },
      "outputs": [],
      "source": [
        "\n",
        "x_train, x_test, y_train, y_test = train_test_split(df_X,df_y,test_size=0.3,random_state=42)"
      ]
    },
    {
      "cell_type": "code",
      "execution_count": 31,
      "metadata": {
        "colab": {
          "base_uri": "https://localhost:8080/"
        },
        "id": "vQPTpBhGC0FK",
        "outputId": "684e4e17-2c8c-4698-b9eb-8d1e37614d76"
      },
      "outputs": [
        {
          "name": "stdout",
          "output_type": "stream",
          "text": [
            "Libraries imported.\n",
            "Keras version: 3.4.1\n",
            "TensorFlow version: 2.17.0\n"
          ]
        }
      ],
      "source": [
        "import tensorflow\n",
        "from tensorflow import keras\n",
        "from tensorflow.keras import models\n",
        "from tensorflow.keras.models import Sequential\n",
        "from tensorflow.keras.layers import Dense\n",
        "from tensorflow.keras import utils\n",
        "from tensorflow.keras import optimizers\n",
        "\n",
        "# Set random seed for reproducability\n",
        "tensorflow.random.set_seed(0)\n",
        "\n",
        "print(\"Libraries imported.\")\n",
        "print('Keras version:',keras.__version__)\n",
        "print('TensorFlow version:',tensorflow.__version__)"
      ]
    },
    {
      "cell_type": "code",
      "execution_count": 32,
      "metadata": {
        "colab": {
          "base_uri": "https://localhost:8080/"
        },
        "id": "d9s_BQZNC0FK",
        "outputId": "211932f8-d458-4b58-8c27-f5efae860f94"
      },
      "outputs": [
        {
          "name": "stdout",
          "output_type": "stream",
          "text": [
            "Ready...\n"
          ]
        }
      ],
      "source": [
        "# Set data types for float features\n",
        "x_train = x_train.astype('float32')\n",
        "x_test = x_test.astype('float32')\n",
        "\n",
        "# Set data types for categorical labels\n",
        "y_train = utils.to_categorical(y_train)\n",
        "y_test = utils.to_categorical(y_test)\n",
        "print('Ready...')"
      ]
    },
    {
      "cell_type": "code",
      "execution_count": 33,
      "metadata": {
        "colab": {
          "base_uri": "https://localhost:8080/",
          "height": 305
        },
        "id": "J3v2jnIiC0FL",
        "outputId": "aec2dcb9-be8c-4cd0-e633-30b4a3d2151a"
      },
      "outputs": [
        {
          "name": "stderr",
          "output_type": "stream",
          "text": [
            "/usr/local/lib/python3.10/dist-packages/keras/src/layers/core/dense.py:87: UserWarning: Do not pass an `input_shape`/`input_dim` argument to a layer. When using Sequential models, prefer using an `Input(shape)` object as the first layer in the model instead.\n",
            "  super().__init__(activity_regularizer=activity_regularizer, **kwargs)\n"
          ]
        },
        {
          "data": {
            "text/html": [
              "<pre style=\"white-space:pre;overflow-x:auto;line-height:normal;font-family:Menlo,'DejaVu Sans Mono',consolas,'Courier New',monospace\"><span style=\"font-weight: bold\">Model: \"sequential\"</span>\n",
              "</pre>\n"
            ],
            "text/plain": [
              "\u001b[1mModel: \"sequential\"\u001b[0m\n"
            ]
          },
          "metadata": {},
          "output_type": "display_data"
        },
        {
          "data": {
            "text/html": [
              "<pre style=\"white-space:pre;overflow-x:auto;line-height:normal;font-family:Menlo,'DejaVu Sans Mono',consolas,'Courier New',monospace\">┏━━━━━━━━━━━━━━━━━━━━━━━━━━━━━━━━━━━━━━┳━━━━━━━━━━━━━━━━━━━━━━━━━━━━━┳━━━━━━━━━━━━━━━━━┓\n",
              "┃<span style=\"font-weight: bold\"> Layer (type)                         </span>┃<span style=\"font-weight: bold\"> Output Shape                </span>┃<span style=\"font-weight: bold\">         Param # </span>┃\n",
              "┡━━━━━━━━━━━━━━━━━━━━━━━━━━━━━━━━━━━━━━╇━━━━━━━━━━━━━━━━━━━━━━━━━━━━━╇━━━━━━━━━━━━━━━━━┩\n",
              "│ dense (<span style=\"color: #0087ff; text-decoration-color: #0087ff\">Dense</span>)                        │ (<span style=\"color: #00d7ff; text-decoration-color: #00d7ff\">None</span>, <span style=\"color: #00af00; text-decoration-color: #00af00\">10</span>)                  │             <span style=\"color: #00af00; text-decoration-color: #00af00\">130</span> │\n",
              "├──────────────────────────────────────┼─────────────────────────────┼─────────────────┤\n",
              "│ dense_1 (<span style=\"color: #0087ff; text-decoration-color: #0087ff\">Dense</span>)                      │ (<span style=\"color: #00d7ff; text-decoration-color: #00d7ff\">None</span>, <span style=\"color: #00af00; text-decoration-color: #00af00\">10</span>)                  │             <span style=\"color: #00af00; text-decoration-color: #00af00\">110</span> │\n",
              "├──────────────────────────────────────┼─────────────────────────────┼─────────────────┤\n",
              "│ dense_2 (<span style=\"color: #0087ff; text-decoration-color: #0087ff\">Dense</span>)                      │ (<span style=\"color: #00d7ff; text-decoration-color: #00d7ff\">None</span>, <span style=\"color: #00af00; text-decoration-color: #00af00\">4</span>)                   │              <span style=\"color: #00af00; text-decoration-color: #00af00\">44</span> │\n",
              "└──────────────────────────────────────┴─────────────────────────────┴─────────────────┘\n",
              "</pre>\n"
            ],
            "text/plain": [
              "┏━━━━━━━━━━━━━━━━━━━━━━━━━━━━━━━━━━━━━━┳━━━━━━━━━━━━━━━━━━━━━━━━━━━━━┳━━━━━━━━━━━━━━━━━┓\n",
              "┃\u001b[1m \u001b[0m\u001b[1mLayer (type)                        \u001b[0m\u001b[1m \u001b[0m┃\u001b[1m \u001b[0m\u001b[1mOutput Shape               \u001b[0m\u001b[1m \u001b[0m┃\u001b[1m \u001b[0m\u001b[1m        Param #\u001b[0m\u001b[1m \u001b[0m┃\n",
              "┡━━━━━━━━━━━━━━━━━━━━━━━━━━━━━━━━━━━━━━╇━━━━━━━━━━━━━━━━━━━━━━━━━━━━━╇━━━━━━━━━━━━━━━━━┩\n",
              "│ dense (\u001b[38;5;33mDense\u001b[0m)                        │ (\u001b[38;5;45mNone\u001b[0m, \u001b[38;5;34m10\u001b[0m)                  │             \u001b[38;5;34m130\u001b[0m │\n",
              "├──────────────────────────────────────┼─────────────────────────────┼─────────────────┤\n",
              "│ dense_1 (\u001b[38;5;33mDense\u001b[0m)                      │ (\u001b[38;5;45mNone\u001b[0m, \u001b[38;5;34m10\u001b[0m)                  │             \u001b[38;5;34m110\u001b[0m │\n",
              "├──────────────────────────────────────┼─────────────────────────────┼─────────────────┤\n",
              "│ dense_2 (\u001b[38;5;33mDense\u001b[0m)                      │ (\u001b[38;5;45mNone\u001b[0m, \u001b[38;5;34m4\u001b[0m)                   │              \u001b[38;5;34m44\u001b[0m │\n",
              "└──────────────────────────────────────┴─────────────────────────────┴─────────────────┘\n"
            ]
          },
          "metadata": {},
          "output_type": "display_data"
        },
        {
          "data": {
            "text/html": [
              "<pre style=\"white-space:pre;overflow-x:auto;line-height:normal;font-family:Menlo,'DejaVu Sans Mono',consolas,'Courier New',monospace\"><span style=\"font-weight: bold\"> Total params: </span><span style=\"color: #00af00; text-decoration-color: #00af00\">284</span> (1.11 KB)\n",
              "</pre>\n"
            ],
            "text/plain": [
              "\u001b[1m Total params: \u001b[0m\u001b[38;5;34m284\u001b[0m (1.11 KB)\n"
            ]
          },
          "metadata": {},
          "output_type": "display_data"
        },
        {
          "data": {
            "text/html": [
              "<pre style=\"white-space:pre;overflow-x:auto;line-height:normal;font-family:Menlo,'DejaVu Sans Mono',consolas,'Courier New',monospace\"><span style=\"font-weight: bold\"> Trainable params: </span><span style=\"color: #00af00; text-decoration-color: #00af00\">284</span> (1.11 KB)\n",
              "</pre>\n"
            ],
            "text/plain": [
              "\u001b[1m Trainable params: \u001b[0m\u001b[38;5;34m284\u001b[0m (1.11 KB)\n"
            ]
          },
          "metadata": {},
          "output_type": "display_data"
        },
        {
          "data": {
            "text/html": [
              "<pre style=\"white-space:pre;overflow-x:auto;line-height:normal;font-family:Menlo,'DejaVu Sans Mono',consolas,'Courier New',monospace\"><span style=\"font-weight: bold\"> Non-trainable params: </span><span style=\"color: #00af00; text-decoration-color: #00af00\">0</span> (0.00 B)\n",
              "</pre>\n"
            ],
            "text/plain": [
              "\u001b[1m Non-trainable params: \u001b[0m\u001b[38;5;34m0\u001b[0m (0.00 B)\n"
            ]
          },
          "metadata": {},
          "output_type": "display_data"
        },
        {
          "name": "stdout",
          "output_type": "stream",
          "text": [
            "None\n"
          ]
        }
      ],
      "source": [
        "# Define a classifier network\n",
        "hl = 10 # Number of hidden layer nodes\n",
        "\n",
        "model = Sequential()\n",
        "model.add(Dense(hl, input_dim=len(features), activation='relu'))\n",
        "model.add(Dense(hl, input_dim=hl, activation='relu'))\n",
        "model.add(Dense(4, input_dim=hl, activation='softmax'))\n",
        "\n",
        "print(model.summary())"
      ]
    },
    {
      "cell_type": "code",
      "execution_count": 35,
      "metadata": {
        "colab": {
          "base_uri": "https://localhost:8080/"
        },
        "id": "WAE4clJ6C0FL",
        "outputId": "bd6cd5ae-6264-4e0a-a5bf-773cbac2e4fe"
      },
      "outputs": [
        {
          "name": "stdout",
          "output_type": "stream",
          "text": [
            "Epoch 1/5\n",
            "\u001b[1m4609/4609\u001b[0m \u001b[32m━━━━━━━━━━━━━━━━━━━━\u001b[0m\u001b[37m\u001b[0m \u001b[1m27s\u001b[0m 5ms/step - accuracy: 0.5554 - loss: 0.9250 - val_accuracy: 0.5072 - val_loss: 1.0544\n",
            "Epoch 2/5\n",
            "\u001b[1m4609/4609\u001b[0m \u001b[32m━━━━━━━━━━━━━━━━━━━━\u001b[0m\u001b[37m\u001b[0m \u001b[1m33s\u001b[0m 3ms/step - accuracy: 0.5599 - loss: 0.9154 - val_accuracy: 0.5291 - val_loss: 1.0360\n",
            "Epoch 3/5\n",
            "\u001b[1m4609/4609\u001b[0m \u001b[32m━━━━━━━━━━━━━━━━━━━━\u001b[0m\u001b[37m\u001b[0m \u001b[1m20s\u001b[0m 3ms/step - accuracy: 0.5611 - loss: 0.9143 - val_accuracy: 0.4866 - val_loss: 1.0706\n",
            "Epoch 4/5\n",
            "\u001b[1m4609/4609\u001b[0m \u001b[32m━━━━━━━━━━━━━━━━━━━━\u001b[0m\u001b[37m\u001b[0m \u001b[1m17s\u001b[0m 4ms/step - accuracy: 0.5598 - loss: 0.9153 - val_accuracy: 0.5289 - val_loss: 1.0372\n",
            "Epoch 5/5\n",
            "\u001b[1m4609/4609\u001b[0m \u001b[32m━━━━━━━━━━━━━━━━━━━━\u001b[0m\u001b[37m\u001b[0m \u001b[1m17s\u001b[0m 3ms/step - accuracy: 0.5604 - loss: 0.9155 - val_accuracy: 0.5181 - val_loss: 1.0409\n"
          ]
        }
      ],
      "source": [
        "#hyper-parameters for optimizer\n",
        "learning_rate = 0.1\n",
        "opt = optimizers.Adam(learning_rate=learning_rate)\n",
        "\n",
        "model.compile(loss='categorical_crossentropy',\n",
        "              optimizer=opt,\n",
        "              metrics=['accuracy'])\n",
        "\n",
        "# Train the model over 50 epochs using 10-observation batches and using the test holdout dataset for validation\n",
        "num_epochs = 5\n",
        "history = model.fit(x_train, y_train, epochs=num_epochs, batch_size=10, validation_data=(x_test, y_test))"
      ]
    },
    {
      "cell_type": "code",
      "execution_count": 36,
      "metadata": {
        "colab": {
          "base_uri": "https://localhost:8080/",
          "height": 449
        },
        "id": "hS8zQc-zC0FL",
        "outputId": "9ba8b2dd-00c4-4a98-89d7-47e17de0c6b8"
      },
      "outputs": [
        {
          "data": {
            "image/png": "[encoded data removed]",
            "text/plain": [
              "<Figure size 640x480 with 1 Axes>"
            ]
          },
          "metadata": {},
          "output_type": "display_data"
        }
      ],
      "source": [
        "%matplotlib inline\n",
        "from matplotlib import pyplot as plt\n",
        "\n",
        "epoch_nums = range(1,num_epochs+1)\n",
        "training_loss = history.history[\"loss\"]\n",
        "validation_loss = history.history[\"val_loss\"]\n",
        "plt.plot(epoch_nums, training_loss)\n",
        "plt.plot(epoch_nums, validation_loss)\n",
        "plt.xlabel('epoch')\n",
        "plt.ylabel('loss')\n",
        "plt.legend(['training', 'validation'], loc='upper right')\n",
        "plt.show()"
      ]
    },
    {
      "cell_type": "code",
      "execution_count": 37,
      "metadata": {
        "colab": {
          "base_uri": "https://localhost:8080/"
        },
        "id": "1v5Hy63bC0FM",
        "outputId": "ca4001a1-1b7f-4a78-8998-fdb561fb595e"
      },
      "outputs": [
        {
          "name": "stdout",
          "output_type": "stream",
          "text": [
            "------------\n",
            "Weights:\n",
            " [[-5.599341   -0.16980052 -0.8754522  -0.73827434 -0.60941976 -0.25137183\n",
            "   0.7447344  -0.3133401  -0.13024926  0.5106743 ]\n",
            " [ 0.9141595  -0.5042675  -0.17946157 -0.68307096 -0.971912   -0.06997287\n",
            "  -1.2367889  -0.4581692  -0.6534135   0.07977933]\n",
            " [ 3.3243876  -1.034157   -0.58605474 -0.3435617  -0.99745363 -1.6112485\n",
            "  -1.6798855  -1.0764036   0.31649292 -0.23624235]\n",
            " [-6.3593097  -0.7318922  -0.55711013 -0.22553688 -1.0266044  -0.11685873\n",
            "  -0.11773312 -0.46164834 -0.38514844 -0.46354812]\n",
            " [ 2.7979946  -0.42235443 -0.8571251  -0.43219772 -0.902082    0.15514487\n",
            "   0.28348076 -1.0304259  -0.30454034 -0.04258057]\n",
            " [ 0.8753587  -0.38184804 -0.6048757  -0.40189025 -0.57481617 -0.01519771\n",
            "  -1.3016738  -0.24057628 -0.45529446 -0.13467827]\n",
            " [ 1.8253514  -0.7756276  -0.645362   -0.94129527 -0.5375305   0.72759813\n",
            "  -1.5903587  -0.1266192   0.04681632 -0.23191664]\n",
            " [ 0.3270458  -0.15587118 -0.28662077 -1.0346725  -0.11454467  0.75091434\n",
            "  -1.6560385  -0.9753034  -0.3172894  -0.49399358]\n",
            " [ 5.5862417  -0.31778365 -0.8374314  -0.19703108 -0.7901745  -1.0549223\n",
            "  -1.3707129  -1.0876145  -0.04416053 -0.45898223]\n",
            " [ 0.83047014 -0.33787167 -0.30852547 -0.7408698  -0.6556628   0.04889914\n",
            "  -1.3184252  -0.35908225 -0.232326   -0.17803341]\n",
            " [-0.21116497 -0.7848681  -0.3069441  -0.6582888  -0.33761853 -0.50500184\n",
            "  -0.71627474 -0.27759582 -0.67076653 -0.47858596]\n",
            " [-0.17479664 -0.0929034  -0.12312737 -0.6378492  -0.61591285 -0.5630144\n",
            "  -1.4865001  -0.43699047 -0.02919287 -0.08571893]] \n",
            "Biases:\n",
            " [-1.0579069  -0.6005422  -0.60052425 -0.5985928  -0.6004714  -0.75401163\n",
            " -1.2053729  -0.60049206 -0.34208325  0.        ]\n",
            "------------\n",
            "Weights:\n",
            " [[-4.01619494e-01 -5.94139397e-01 -8.83100033e-02 -4.42850113e-01\n",
            "  -2.94105673e+00  4.65297066e-02 -6.03318214e-04 -6.36863410e-02\n",
            "   7.50351310e-01 -1.51175886e-01]\n",
            " [-4.39237326e-01 -2.11008966e-01 -4.29702431e-01 -1.44988775e-01\n",
            "   2.46598616e-01 -3.80815566e-01 -1.15782216e-01  1.14584017e+00\n",
            "   2.18256757e-01 -3.97002220e-01]\n",
            " [-7.81822741e-01 -3.46883595e-01 -4.01288658e-01 -5.87106764e-01\n",
            "   9.69824374e-01 -4.83962238e-01 -4.03406143e-01  1.91207409e-01\n",
            "   7.58527637e-01 -9.40408409e-02]\n",
            " [-1.18313700e-01 -8.05273771e-01 -1.01653969e+00  1.52241960e-02\n",
            "   8.84583771e-01 -1.37955576e-01 -1.51523158e-01 -7.08488345e-01\n",
            "   7.56097078e-01 -3.88462007e-01]\n",
            " [-2.42123246e-01 -3.82565916e-01 -5.37350833e-01 -5.38330615e-01\n",
            "   7.52599239e-02 -2.71661490e-01 -5.20524800e-01  1.86274886e-01\n",
            "   4.85703826e-01 -5.13417542e-01]\n",
            " [-4.33759779e-01  3.05500209e-01 -9.33473527e-01 -9.72750604e-01\n",
            "   2.44302720e-01 -1.87029973e-01 -7.63144135e-01 -5.98328352e-01\n",
            "  -5.79984546e-01 -3.46164823e-01]\n",
            " [-9.92488563e-01 -3.32484663e-01 -1.97215855e-01 -2.77068347e-01\n",
            "  -7.61092842e-01 -8.09579134e-01 -8.83592129e-01 -1.82422549e-01\n",
            "   6.59183860e-02 -1.33245081e-01]\n",
            " [ 1.77202046e-01  1.26144290e-01 -3.74454319e-01 -4.71239090e-01\n",
            "   2.41965592e-01 -1.38470486e-01 -4.85439897e-02 -1.84204280e-01\n",
            "   3.67385149e-02 -5.84401369e-01]\n",
            " [-4.40142572e-01  7.01615334e-01 -3.20139050e-01  9.11321878e-01\n",
            "   2.03391984e-01 -1.29735565e+00 -6.66813135e-01 -4.24976617e-01\n",
            "   3.56383920e-01 -1.05581188e+00]\n",
            " [ 2.54761577e-02 -4.98416096e-01 -2.08183527e-02  3.30696523e-01\n",
            "  -3.67754430e-01  1.50312424e-01  1.13848984e-01  4.54030514e-01\n",
            "   1.21924341e-01  3.65366518e-01]] \n",
            "Biases:\n",
            " [-0.60054046 -0.37870172 -0.6004558  -0.530496   -0.18337724 -0.80233467\n",
            " -0.60054034 -0.5155128  -0.02652143 -0.6005328 ]\n",
            "------------\n",
            "Weights:\n",
            " [[-0.02603513 -0.8552469   0.22829702 -0.46771377]\n",
            " [-1.9943115  -0.31138644 -0.50747603  0.24332954]\n",
            " [-1.2099516  -0.13591322  0.30710334 -0.52300715]\n",
            " [-1.2170277  -0.72951037  0.37557486 -0.02100966]\n",
            " [-4.8641376   0.3288516   0.09365958  0.8603055 ]\n",
            " [-0.01759217  0.32788438 -0.5920218  -2.3152921 ]\n",
            " [-0.06369197 -0.83564305  0.19519496 -0.55395335]\n",
            " [-0.34999663 -1.0376408   0.7714748   0.16987115]\n",
            " [-8.397719    1.2613636   0.28737572 -1.153062  ]\n",
            " [-1.2431558  -0.86735624  0.20195822 -0.09503663]] \n",
            "Biases:\n",
            " [-17.941761     0.16684727   0.90132415   0.45505455]\n"
          ]
        }
      ],
      "source": [
        "for layer in model.layers:\n",
        "    weights = layer.get_weights()[0]\n",
        "    biases = layer.get_weights()[1]\n",
        "    print('------------\\nWeights:\\n',weights,'\\nBiases:\\n', biases)"
      ]
    },
    {
      "cell_type": "code",
      "execution_count": 38,
      "metadata": {
        "colab": {
          "base_uri": "https://localhost:8080/",
          "height": 463
        },
        "id": "U8PK758HC0FM",
        "outputId": "f165e1bc-078b-4e9f-ff0c-a65433fad2a8"
      },
      "outputs": [
        {
          "name": "stdout",
          "output_type": "stream",
          "text": [
            "\u001b[1m618/618\u001b[0m \u001b[32m━━━━━━━━━━━━━━━━━━━━\u001b[0m\u001b[37m\u001b[0m \u001b[1m1s\u001b[0m 1ms/step\n"
          ]
        },
        {
          "data": {
            "image/png": "[encoded data removed]",
            "text/plain": [
              "<Figure size 640x480 with 2 Axes>"
            ]
          },
          "metadata": {},
          "output_type": "display_data"
        }
      ],
      "source": [
        "import numpy as np\n",
        "from sklearn.metrics import confusion_matrix\n",
        "import matplotlib.pyplot as plt\n",
        "%matplotlib inline\n",
        "\n",
        "\n",
        "class_probabilities = model.predict(x_test)\n",
        "predictions = np.argmax(class_probabilities, axis=1)\n",
        "true_labels = np.argmax(y_test, axis=1)\n",
        "\n",
        "# Plot the confusion matrix\n",
        "cm = confusion_matrix(true_labels, predictions)\n",
        "plt.imshow(cm, interpolation=\"nearest\", cmap=plt.cm.Blues)\n",
        "plt.colorbar()\n",
        "tick_marks = np.arange(3)\n",
        "plt.xticks(tick_marks,  rotation=85)\n",
        "plt.yticks(tick_marks, )\n",
        "plt.xlabel(\"Predicted Score\")\n",
        "plt.ylabel(\"Actual Score\")\n",
        "plt.show()"
      ]
    }
  ],
  "metadata": {
    "colab": {
      "provenance": []
    },
    "kernelspec": {
      "display_name": "Python 3",
      "language": "python",
      "name": "python3"
    },
    "language_info": {
      "codemirror_mode": {
        "name": "ipython",
        "version": 3
      },
      "file_extension": ".py",
      "mimetype": "text/x-python",
      "name": "python",
      "nbconvert_exporter": "python",
      "pygments_lexer": "ipython3",
      "version": "3.9.18"
    }
  },
  "nbformat": 4,
  "nbformat_minor": 0
}
